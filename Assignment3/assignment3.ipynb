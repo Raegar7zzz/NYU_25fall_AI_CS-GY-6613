{
 "cells": [
  {
   "cell_type": "code",
   "execution_count": 1,
   "metadata": {},
   "outputs": [
    {
     "name": "stdout",
     "output_type": "stream",
     "text": [
      "Creating new Ultralytics Settings v0.0.6 file ✅ \n",
      "View Ultralytics Settings with 'yolo settings' or at '/Users/owen/Library/Application Support/Ultralytics/settings.json'\n",
      "Update Settings with 'yolo settings key=value', i.e. 'yolo settings runs_dir=path/to/dir'. For help see https://docs.ultralytics.com/quickstart/#ultralytics-settings.\n"
     ]
    },
    {
     "name": "stderr",
     "output_type": "stream",
     "text": [
      "/Users/owen/Desktop/q/daixie/.venv/lib/python3.13/site-packages/filterpy/common/helpers.py:364: SyntaxWarning: invalid escape sequence '\\S'\n",
      "  \"\"\"\n"
     ]
    }
   ],
   "source": [
    "import os\n",
    "import cv2\n",
    "import numpy as np\n",
    "from ultralytics import YOLO\n",
    "import matplotlib.pyplot as plt\n",
    "from tqdm import tqdm\n",
    "from filterpy.kalman import KalmanFilter\n",
    "from filterpy.common import Q_discrete_white_noise"
   ]
  },
  {
   "cell_type": "markdown",
   "metadata": {},
   "source": [
    "## Q1"
   ]
  },
  {
   "cell_type": "code",
   "execution_count": 15,
   "metadata": {},
   "outputs": [
    {
     "name": "stdout",
     "output_type": "stream",
     "text": [
      "[youtube] Extracting URL: https://www.youtube.com/shorts/MwxxofLNpTg?feature=share\n",
      "[youtube] MwxxofLNpTg: Downloading webpage\n",
      "[youtube] MwxxofLNpTg: Downloading tv client config\n",
      "[youtube] MwxxofLNpTg: Downloading player 6b3caec8\n",
      "[youtube] MwxxofLNpTg: Downloading tv player API JSON\n",
      "[youtube] MwxxofLNpTg: Downloading ios player API JSON\n",
      "[youtube] MwxxofLNpTg: Downloading m3u8 information\n",
      "[info] MwxxofLNpTg: Downloading 1 format(s): 18\n",
      "[download] drone_video.mp4 has already been downloaded\n",
      "\u001b[K[download] 100% of    1.21MiB\n",
      "[youtube] Extracting URL: https://youtu.be/HYSdFHQDDcs\n",
      "[youtube] HYSdFHQDDcs: Downloading webpage\n",
      "[youtube] HYSdFHQDDcs: Downloading tv client config\n",
      "[youtube] HYSdFHQDDcs: Downloading player 6b3caec8\n",
      "[youtube] HYSdFHQDDcs: Downloading tv player API JSON\n",
      "[youtube] HYSdFHQDDcs: Downloading ios player API JSON\n",
      "[youtube] HYSdFHQDDcs: Downloading m3u8 information\n",
      "[info] HYSdFHQDDcs: Downloading 1 format(s): 18\n",
      "[download] Destination: traffic.mp4\n",
      "\u001b[K[download] 100% of  990.41KiB in \u001b[1;37m00:00:00\u001b[0m at \u001b[0;32m4.86MiB/s\u001b[0m0;33m00:00\u001b[0m0m\n"
     ]
    }
   ],
   "source": [
    "!yt-dlp -f mp4 \"https://www.youtube.com/shorts/MwxxofLNpTg?feature=share\" -o \"drone_video.mp4\"\n",
    "!yt-dlp -f mp4 \"https://youtu.be/HYSdFHQDDcs\" -o \"traffic.mp4\""
   ]
  },
  {
   "cell_type": "code",
   "execution_count": 11,
   "metadata": {},
   "outputs": [
    {
     "name": "stderr",
     "output_type": "stream",
     "text": [
      "  0%|          | 0/451 [00:00<?, ?it/s]"
     ]
    },
    {
     "name": "stdout",
     "output_type": "stream",
     "text": [
      "\n",
      "0: 640x384 1 truck, 62.1ms\n",
      "Speed: 0.9ms preprocess, 62.1ms inference, 0.3ms postprocess per image at shape (1, 3, 640, 384)\n"
     ]
    },
    {
     "name": "stderr",
     "output_type": "stream",
     "text": [
      "  0%|          | 1/451 [00:00<01:01,  7.37it/s]"
     ]
    },
    {
     "name": "stdout",
     "output_type": "stream",
     "text": [
      "\n",
      "0: 640x384 1 car, 1 truck, 76.7ms\n",
      "Speed: 0.5ms preprocess, 76.7ms inference, 0.4ms postprocess per image at shape (1, 3, 640, 384)\n",
      "\n",
      "0: 640x384 1 car, 1 bus, 1 truck, 60.0ms\n",
      "Speed: 0.6ms preprocess, 60.0ms inference, 0.3ms postprocess per image at shape (1, 3, 640, 384)\n"
     ]
    },
    {
     "name": "stderr",
     "output_type": "stream",
     "text": [
      "  1%|          | 3/451 [00:00<00:39, 11.26it/s]"
     ]
    },
    {
     "name": "stdout",
     "output_type": "stream",
     "text": [
      "\n",
      "0: 640x384 1 car, 1 truck, 59.0ms\n",
      "Speed: 0.6ms preprocess, 59.0ms inference, 0.6ms postprocess per image at shape (1, 3, 640, 384)\n",
      "\n",
      "0: 640x384 1 truck, 61.2ms\n",
      "Speed: 0.9ms preprocess, 61.2ms inference, 0.3ms postprocess per image at shape (1, 3, 640, 384)\n"
     ]
    },
    {
     "name": "stderr",
     "output_type": "stream",
     "text": [
      "  1%|          | 5/451 [00:00<00:34, 13.07it/s]"
     ]
    },
    {
     "name": "stdout",
     "output_type": "stream",
     "text": [
      "\n",
      "0: 640x384 1 car, 1 truck, 61.8ms\n",
      "Speed: 0.5ms preprocess, 61.8ms inference, 0.3ms postprocess per image at shape (1, 3, 640, 384)\n",
      "\n",
      "0: 640x384 1 truck, 61.4ms\n",
      "Speed: 0.7ms preprocess, 61.4ms inference, 0.4ms postprocess per image at shape (1, 3, 640, 384)\n"
     ]
    },
    {
     "name": "stderr",
     "output_type": "stream",
     "text": [
      "  2%|▏         | 7/451 [00:00<00:31, 13.90it/s]"
     ]
    },
    {
     "name": "stdout",
     "output_type": "stream",
     "text": [
      "\n",
      "0: 640x384 1 truck, 63.0ms\n",
      "Speed: 0.6ms preprocess, 63.0ms inference, 0.8ms postprocess per image at shape (1, 3, 640, 384)\n",
      "\n",
      "0: 640x384 1 truck, 62.6ms\n",
      "Speed: 0.5ms preprocess, 62.6ms inference, 0.4ms postprocess per image at shape (1, 3, 640, 384)\n"
     ]
    },
    {
     "name": "stderr",
     "output_type": "stream",
     "text": [
      "  2%|▏         | 9/451 [00:00<00:31, 14.23it/s]"
     ]
    },
    {
     "name": "stdout",
     "output_type": "stream",
     "text": [
      "\n",
      "0: 640x384 1 car, 1 truck, 61.1ms\n",
      "Speed: 0.5ms preprocess, 61.1ms inference, 0.3ms postprocess per image at shape (1, 3, 640, 384)\n",
      "\n",
      "0: 640x384 1 car, 1 truck, 60.8ms\n",
      "Speed: 0.6ms preprocess, 60.8ms inference, 0.3ms postprocess per image at shape (1, 3, 640, 384)\n"
     ]
    },
    {
     "name": "stderr",
     "output_type": "stream",
     "text": [
      "  2%|▏         | 11/451 [00:00<00:30, 14.59it/s]"
     ]
    },
    {
     "name": "stdout",
     "output_type": "stream",
     "text": [
      "\n",
      "0: 640x384 1 car, 1 truck, 60.1ms\n",
      "Speed: 0.5ms preprocess, 60.1ms inference, 0.4ms postprocess per image at shape (1, 3, 640, 384)\n",
      "\n",
      "0: 640x384 1 car, 64.5ms\n",
      "Speed: 0.7ms preprocess, 64.5ms inference, 0.3ms postprocess per image at shape (1, 3, 640, 384)\n"
     ]
    },
    {
     "name": "stderr",
     "output_type": "stream",
     "text": [
      "  3%|▎         | 13/451 [00:00<00:29, 14.70it/s]"
     ]
    },
    {
     "name": "stdout",
     "output_type": "stream",
     "text": [
      "\n",
      "0: 640x384 1 car, 64.5ms\n",
      "Speed: 0.7ms preprocess, 64.5ms inference, 0.4ms postprocess per image at shape (1, 3, 640, 384)\n",
      "\n",
      "0: 640x384 1 car, 1 truck, 61.9ms\n",
      "Speed: 0.6ms preprocess, 61.9ms inference, 0.7ms postprocess per image at shape (1, 3, 640, 384)\n"
     ]
    },
    {
     "name": "stderr",
     "output_type": "stream",
     "text": [
      "  3%|▎         | 15/451 [00:01<00:29, 14.70it/s]"
     ]
    },
    {
     "name": "stdout",
     "output_type": "stream",
     "text": [
      "\n",
      "0: 640x384 1 truck, 56.9ms\n",
      "Speed: 0.5ms preprocess, 56.9ms inference, 0.3ms postprocess per image at shape (1, 3, 640, 384)\n",
      "\n",
      "0: 640x384 1 truck, 58.1ms\n",
      "Speed: 0.5ms preprocess, 58.1ms inference, 0.3ms postprocess per image at shape (1, 3, 640, 384)\n"
     ]
    },
    {
     "name": "stderr",
     "output_type": "stream",
     "text": [
      "  4%|▍         | 17/451 [00:01<00:28, 15.15it/s]"
     ]
    },
    {
     "name": "stdout",
     "output_type": "stream",
     "text": [
      "\n",
      "0: 640x384 1 car, 1 truck, 56.4ms\n",
      "Speed: 0.5ms preprocess, 56.4ms inference, 0.3ms postprocess per image at shape (1, 3, 640, 384)\n",
      "\n",
      "0: 640x384 1 car, 1 truck, 58.2ms\n",
      "Speed: 0.5ms preprocess, 58.2ms inference, 0.3ms postprocess per image at shape (1, 3, 640, 384)\n"
     ]
    },
    {
     "name": "stderr",
     "output_type": "stream",
     "text": [
      "  4%|▍         | 19/451 [00:01<00:27, 15.51it/s]"
     ]
    },
    {
     "name": "stdout",
     "output_type": "stream",
     "text": [
      "\n",
      "0: 640x384 1 car, 56.1ms\n",
      "Speed: 0.4ms preprocess, 56.1ms inference, 0.4ms postprocess per image at shape (1, 3, 640, 384)\n",
      "\n",
      "0: 640x384 1 car, 1 truck, 55.0ms\n",
      "Speed: 0.5ms preprocess, 55.0ms inference, 0.3ms postprocess per image at shape (1, 3, 640, 384)\n"
     ]
    },
    {
     "name": "stderr",
     "output_type": "stream",
     "text": [
      "  5%|▍         | 21/451 [00:01<00:27, 15.90it/s]"
     ]
    },
    {
     "name": "stdout",
     "output_type": "stream",
     "text": [
      "\n",
      "0: 640x384 1 car, 57.3ms\n",
      "Speed: 0.5ms preprocess, 57.3ms inference, 0.3ms postprocess per image at shape (1, 3, 640, 384)\n",
      "\n",
      "0: 640x384 1 car, 1 truck, 57.3ms\n",
      "Speed: 0.4ms preprocess, 57.3ms inference, 0.3ms postprocess per image at shape (1, 3, 640, 384)\n"
     ]
    },
    {
     "name": "stderr",
     "output_type": "stream",
     "text": [
      "  5%|▌         | 23/451 [00:01<00:26, 16.03it/s]"
     ]
    },
    {
     "name": "stdout",
     "output_type": "stream",
     "text": [
      "\n",
      "0: 640x384 1 car, 1 truck, 60.2ms\n",
      "Speed: 0.4ms preprocess, 60.2ms inference, 0.4ms postprocess per image at shape (1, 3, 640, 384)\n",
      "\n",
      "0: 640x384 1 car, 1 truck, 75.6ms\n",
      "Speed: 0.4ms preprocess, 75.6ms inference, 0.5ms postprocess per image at shape (1, 3, 640, 384)\n"
     ]
    },
    {
     "name": "stderr",
     "output_type": "stream",
     "text": [
      "  6%|▌         | 25/451 [00:01<00:27, 15.32it/s]"
     ]
    },
    {
     "name": "stdout",
     "output_type": "stream",
     "text": [
      "\n",
      "0: 640x384 1 car, 1 truck, 57.7ms\n",
      "Speed: 0.5ms preprocess, 57.7ms inference, 0.3ms postprocess per image at shape (1, 3, 640, 384)\n",
      "\n",
      "0: 640x384 1 car, 1 truck, 60.0ms\n",
      "Speed: 0.4ms preprocess, 60.0ms inference, 0.3ms postprocess per image at shape (1, 3, 640, 384)\n"
     ]
    },
    {
     "name": "stderr",
     "output_type": "stream",
     "text": [
      "  6%|▌         | 27/451 [00:01<00:27, 15.52it/s]"
     ]
    },
    {
     "name": "stdout",
     "output_type": "stream",
     "text": [
      "\n",
      "0: 640x384 1 car, 1 truck, 55.4ms\n",
      "Speed: 0.4ms preprocess, 55.4ms inference, 0.3ms postprocess per image at shape (1, 3, 640, 384)\n",
      "\n",
      "0: 640x384 1 car, 1 truck, 54.6ms\n",
      "Speed: 0.3ms preprocess, 54.6ms inference, 0.3ms postprocess per image at shape (1, 3, 640, 384)\n"
     ]
    },
    {
     "name": "stderr",
     "output_type": "stream",
     "text": [
      "  6%|▋         | 29/451 [00:01<00:26, 15.96it/s]"
     ]
    },
    {
     "name": "stdout",
     "output_type": "stream",
     "text": [
      "\n",
      "0: 640x384 1 car, 1 truck, 56.4ms\n",
      "Speed: 0.5ms preprocess, 56.4ms inference, 0.3ms postprocess per image at shape (1, 3, 640, 384)\n",
      "\n",
      "0: 640x384 1 car, 1 truck, 58.0ms\n",
      "Speed: 0.4ms preprocess, 58.0ms inference, 0.3ms postprocess per image at shape (1, 3, 640, 384)\n"
     ]
    },
    {
     "name": "stderr",
     "output_type": "stream",
     "text": [
      "  7%|▋         | 31/451 [00:02<00:26, 16.10it/s]"
     ]
    },
    {
     "name": "stdout",
     "output_type": "stream",
     "text": [
      "\n",
      "0: 640x384 1 truck, 57.8ms\n",
      "Speed: 0.5ms preprocess, 57.8ms inference, 0.3ms postprocess per image at shape (1, 3, 640, 384)\n",
      "\n",
      "0: 640x384 1 truck, 58.5ms\n",
      "Speed: 0.5ms preprocess, 58.5ms inference, 0.3ms postprocess per image at shape (1, 3, 640, 384)\n"
     ]
    },
    {
     "name": "stderr",
     "output_type": "stream",
     "text": [
      "  7%|▋         | 33/451 [00:02<00:25, 16.11it/s]"
     ]
    },
    {
     "name": "stdout",
     "output_type": "stream",
     "text": [
      "\n",
      "0: 640x384 1 car, 1 truck, 57.2ms\n",
      "Speed: 0.5ms preprocess, 57.2ms inference, 0.3ms postprocess per image at shape (1, 3, 640, 384)\n",
      "\n",
      "0: 640x384 1 car, 1 truck, 55.6ms\n",
      "Speed: 0.4ms preprocess, 55.6ms inference, 0.3ms postprocess per image at shape (1, 3, 640, 384)\n"
     ]
    },
    {
     "name": "stderr",
     "output_type": "stream",
     "text": [
      "  8%|▊         | 35/451 [00:02<00:25, 16.27it/s]"
     ]
    },
    {
     "name": "stdout",
     "output_type": "stream",
     "text": [
      "\n",
      "0: 640x384 1 car, 1 truck, 61.1ms\n",
      "Speed: 0.8ms preprocess, 61.1ms inference, 0.3ms postprocess per image at shape (1, 3, 640, 384)\n",
      "\n",
      "0: 640x384 1 car, 1 truck, 59.5ms\n",
      "Speed: 0.6ms preprocess, 59.5ms inference, 0.3ms postprocess per image at shape (1, 3, 640, 384)\n"
     ]
    },
    {
     "name": "stderr",
     "output_type": "stream",
     "text": [
      "  8%|▊         | 37/451 [00:02<00:25, 16.01it/s]"
     ]
    },
    {
     "name": "stdout",
     "output_type": "stream",
     "text": [
      "\n",
      "0: 640x384 1 truck, 58.9ms\n",
      "Speed: 0.5ms preprocess, 58.9ms inference, 0.3ms postprocess per image at shape (1, 3, 640, 384)\n",
      "\n",
      "0: 640x384 1 truck, 58.6ms\n",
      "Speed: 0.5ms preprocess, 58.6ms inference, 0.6ms postprocess per image at shape (1, 3, 640, 384)\n"
     ]
    },
    {
     "name": "stderr",
     "output_type": "stream",
     "text": [
      "  9%|▊         | 39/451 [00:02<00:25, 15.98it/s]"
     ]
    },
    {
     "name": "stdout",
     "output_type": "stream",
     "text": [
      "\n",
      "0: 640x384 1 truck, 58.6ms\n",
      "Speed: 0.4ms preprocess, 58.6ms inference, 0.4ms postprocess per image at shape (1, 3, 640, 384)\n",
      "\n",
      "0: 640x384 1 truck, 64.9ms\n",
      "Speed: 0.8ms preprocess, 64.9ms inference, 0.3ms postprocess per image at shape (1, 3, 640, 384)\n"
     ]
    },
    {
     "name": "stderr",
     "output_type": "stream",
     "text": [
      "  9%|▉         | 41/451 [00:02<00:26, 15.72it/s]"
     ]
    },
    {
     "name": "stdout",
     "output_type": "stream",
     "text": [
      "\n",
      "0: 640x384 1 car, 1 truck, 61.9ms\n",
      "Speed: 0.5ms preprocess, 61.9ms inference, 0.3ms postprocess per image at shape (1, 3, 640, 384)\n",
      "\n",
      "0: 640x384 1 car, 1 truck, 61.4ms\n",
      "Speed: 1.2ms preprocess, 61.4ms inference, 0.3ms postprocess per image at shape (1, 3, 640, 384)\n"
     ]
    },
    {
     "name": "stderr",
     "output_type": "stream",
     "text": [
      " 10%|▉         | 43/451 [00:02<00:26, 15.55it/s]"
     ]
    },
    {
     "name": "stdout",
     "output_type": "stream",
     "text": [
      "\n",
      "0: 640x384 1 car, 57.9ms\n",
      "Speed: 1.4ms preprocess, 57.9ms inference, 0.3ms postprocess per image at shape (1, 3, 640, 384)\n",
      "\n",
      "0: 640x384 1 car, 1 truck, 59.8ms\n",
      "Speed: 0.4ms preprocess, 59.8ms inference, 0.4ms postprocess per image at shape (1, 3, 640, 384)\n"
     ]
    },
    {
     "name": "stderr",
     "output_type": "stream",
     "text": [
      " 10%|▉         | 45/451 [00:02<00:26, 15.61it/s]"
     ]
    },
    {
     "name": "stdout",
     "output_type": "stream",
     "text": [
      "\n",
      "0: 640x384 1 car, 1 truck, 65.1ms\n",
      "Speed: 0.5ms preprocess, 65.1ms inference, 0.5ms postprocess per image at shape (1, 3, 640, 384)\n",
      "\n",
      "0: 640x384 1 car, 65.5ms\n",
      "Speed: 0.9ms preprocess, 65.5ms inference, 0.4ms postprocess per image at shape (1, 3, 640, 384)\n"
     ]
    },
    {
     "name": "stderr",
     "output_type": "stream",
     "text": [
      " 10%|█         | 47/451 [00:03<00:26, 15.21it/s]"
     ]
    },
    {
     "name": "stdout",
     "output_type": "stream",
     "text": [
      "\n",
      "0: 640x384 1 car, 60.7ms\n",
      "Speed: 0.6ms preprocess, 60.7ms inference, 0.3ms postprocess per image at shape (1, 3, 640, 384)\n",
      "\n",
      "0: 640x384 1 truck, 60.3ms\n",
      "Speed: 0.5ms preprocess, 60.3ms inference, 0.4ms postprocess per image at shape (1, 3, 640, 384)\n"
     ]
    },
    {
     "name": "stderr",
     "output_type": "stream",
     "text": [
      " 11%|█         | 49/451 [00:03<00:26, 15.27it/s]"
     ]
    },
    {
     "name": "stdout",
     "output_type": "stream",
     "text": [
      "\n",
      "0: 640x384 1 car, 1 truck, 61.9ms\n",
      "Speed: 0.9ms preprocess, 61.9ms inference, 0.3ms postprocess per image at shape (1, 3, 640, 384)\n",
      "\n",
      "0: 640x384 1 car, 1 truck, 61.3ms\n",
      "Speed: 0.5ms preprocess, 61.3ms inference, 0.3ms postprocess per image at shape (1, 3, 640, 384)\n"
     ]
    },
    {
     "name": "stderr",
     "output_type": "stream",
     "text": [
      " 11%|█▏        | 51/451 [00:03<00:26, 15.25it/s]"
     ]
    },
    {
     "name": "stdout",
     "output_type": "stream",
     "text": [
      "\n",
      "0: 640x384 1 car, 58.9ms\n",
      "Speed: 0.7ms preprocess, 58.9ms inference, 0.3ms postprocess per image at shape (1, 3, 640, 384)\n",
      "\n",
      "0: 640x384 1 car, 89.0ms\n",
      "Speed: 0.5ms preprocess, 89.0ms inference, 0.4ms postprocess per image at shape (1, 3, 640, 384)\n"
     ]
    },
    {
     "name": "stderr",
     "output_type": "stream",
     "text": [
      " 12%|█▏        | 53/451 [00:03<00:27, 14.39it/s]"
     ]
    },
    {
     "name": "stdout",
     "output_type": "stream",
     "text": [
      "\n",
      "0: 640x384 1 car, 1 truck, 92.1ms\n",
      "Speed: 1.0ms preprocess, 92.1ms inference, 0.5ms postprocess per image at shape (1, 3, 640, 384)\n",
      "\n",
      "0: 640x384 1 car, 71.7ms\n",
      "Speed: 0.7ms preprocess, 71.7ms inference, 0.5ms postprocess per image at shape (1, 3, 640, 384)\n"
     ]
    },
    {
     "name": "stderr",
     "output_type": "stream",
     "text": [
      " 12%|█▏        | 55/451 [00:03<00:29, 13.38it/s]"
     ]
    },
    {
     "name": "stdout",
     "output_type": "stream",
     "text": [
      "\n",
      "0: 640x384 1 car, 72.3ms\n",
      "Speed: 0.7ms preprocess, 72.3ms inference, 0.3ms postprocess per image at shape (1, 3, 640, 384)\n",
      "\n",
      "0: 640x384 1 car, 57.3ms\n",
      "Speed: 0.5ms preprocess, 57.3ms inference, 0.3ms postprocess per image at shape (1, 3, 640, 384)\n"
     ]
    },
    {
     "name": "stderr",
     "output_type": "stream",
     "text": [
      " 13%|█▎        | 57/451 [00:03<00:28, 13.70it/s]"
     ]
    },
    {
     "name": "stdout",
     "output_type": "stream",
     "text": [
      "\n",
      "0: 640x384 1 car, 59.5ms\n",
      "Speed: 0.5ms preprocess, 59.5ms inference, 0.3ms postprocess per image at shape (1, 3, 640, 384)\n",
      "\n",
      "0: 640x384 1 car, 55.4ms\n",
      "Speed: 0.5ms preprocess, 55.4ms inference, 0.3ms postprocess per image at shape (1, 3, 640, 384)\n"
     ]
    },
    {
     "name": "stderr",
     "output_type": "stream",
     "text": [
      " 13%|█▎        | 59/451 [00:03<00:27, 14.40it/s]"
     ]
    },
    {
     "name": "stdout",
     "output_type": "stream",
     "text": [
      "\n",
      "0: 640x384 1 car, 55.3ms\n",
      "Speed: 0.4ms preprocess, 55.3ms inference, 0.3ms postprocess per image at shape (1, 3, 640, 384)\n",
      "\n",
      "0: 640x384 1 car, 54.9ms\n",
      "Speed: 0.4ms preprocess, 54.9ms inference, 0.3ms postprocess per image at shape (1, 3, 640, 384)\n"
     ]
    },
    {
     "name": "stderr",
     "output_type": "stream",
     "text": [
      " 14%|█▎        | 61/451 [00:04<00:25, 15.10it/s]"
     ]
    },
    {
     "name": "stdout",
     "output_type": "stream",
     "text": [
      "\n",
      "0: 640x384 1 car, 56.7ms\n",
      "Speed: 0.4ms preprocess, 56.7ms inference, 0.3ms postprocess per image at shape (1, 3, 640, 384)\n",
      "\n",
      "0: 640x384 1 car, 53.2ms\n",
      "Speed: 0.4ms preprocess, 53.2ms inference, 0.3ms postprocess per image at shape (1, 3, 640, 384)\n"
     ]
    },
    {
     "name": "stderr",
     "output_type": "stream",
     "text": [
      " 14%|█▍        | 63/451 [00:04<00:24, 15.65it/s]"
     ]
    },
    {
     "name": "stdout",
     "output_type": "stream",
     "text": [
      "\n",
      "0: 640x384 1 car, 53.9ms\n",
      "Speed: 0.4ms preprocess, 53.9ms inference, 0.3ms postprocess per image at shape (1, 3, 640, 384)\n",
      "\n",
      "0: 640x384 1 car, 53.4ms\n",
      "Speed: 0.4ms preprocess, 53.4ms inference, 0.3ms postprocess per image at shape (1, 3, 640, 384)\n"
     ]
    },
    {
     "name": "stderr",
     "output_type": "stream",
     "text": [
      " 14%|█▍        | 65/451 [00:04<00:23, 16.17it/s]"
     ]
    },
    {
     "name": "stdout",
     "output_type": "stream",
     "text": [
      "\n",
      "0: 640x384 1 car, 1 truck, 53.4ms\n",
      "Speed: 0.6ms preprocess, 53.4ms inference, 0.3ms postprocess per image at shape (1, 3, 640, 384)\n",
      "\n",
      "0: 640x384 1 car, 51.7ms\n",
      "Speed: 0.4ms preprocess, 51.7ms inference, 0.4ms postprocess per image at shape (1, 3, 640, 384)\n"
     ]
    },
    {
     "name": "stderr",
     "output_type": "stream",
     "text": [
      " 15%|█▍        | 67/451 [00:04<00:23, 16.64it/s]"
     ]
    },
    {
     "name": "stdout",
     "output_type": "stream",
     "text": [
      "\n",
      "0: 640x384 1 car, 55.6ms\n",
      "Speed: 0.4ms preprocess, 55.6ms inference, 0.4ms postprocess per image at shape (1, 3, 640, 384)\n",
      "\n",
      "0: 640x384 1 car, 54.3ms\n",
      "Speed: 0.7ms preprocess, 54.3ms inference, 0.3ms postprocess per image at shape (1, 3, 640, 384)\n"
     ]
    },
    {
     "name": "stderr",
     "output_type": "stream",
     "text": [
      " 15%|█▌        | 69/451 [00:04<00:22, 16.79it/s]"
     ]
    },
    {
     "name": "stdout",
     "output_type": "stream",
     "text": [
      "\n",
      "0: 640x384 1 car, 54.7ms\n",
      "Speed: 0.7ms preprocess, 54.7ms inference, 0.3ms postprocess per image at shape (1, 3, 640, 384)\n",
      "\n",
      "0: 640x384 1 car, 57.5ms\n",
      "Speed: 0.4ms preprocess, 57.5ms inference, 0.3ms postprocess per image at shape (1, 3, 640, 384)\n"
     ]
    },
    {
     "name": "stderr",
     "output_type": "stream",
     "text": [
      " 16%|█▌        | 71/451 [00:04<00:22, 16.78it/s]"
     ]
    },
    {
     "name": "stdout",
     "output_type": "stream",
     "text": [
      "\n",
      "0: 640x384 1 car, 58.1ms\n",
      "Speed: 0.5ms preprocess, 58.1ms inference, 0.4ms postprocess per image at shape (1, 3, 640, 384)\n",
      "\n",
      "0: 640x384 1 car, 57.0ms\n",
      "Speed: 0.5ms preprocess, 57.0ms inference, 0.3ms postprocess per image at shape (1, 3, 640, 384)\n"
     ]
    },
    {
     "name": "stderr",
     "output_type": "stream",
     "text": [
      " 16%|█▌        | 73/451 [00:04<00:22, 16.62it/s]"
     ]
    },
    {
     "name": "stdout",
     "output_type": "stream",
     "text": [
      "\n",
      "0: 640x384 1 car, 1 truck, 64.0ms\n",
      "Speed: 1.0ms preprocess, 64.0ms inference, 0.3ms postprocess per image at shape (1, 3, 640, 384)\n",
      "\n",
      "0: 640x384 1 truck, 58.3ms\n",
      "Speed: 0.7ms preprocess, 58.3ms inference, 0.4ms postprocess per image at shape (1, 3, 640, 384)\n"
     ]
    },
    {
     "name": "stderr",
     "output_type": "stream",
     "text": [
      " 17%|█▋        | 75/451 [00:04<00:23, 16.17it/s]"
     ]
    },
    {
     "name": "stdout",
     "output_type": "stream",
     "text": [
      "\n",
      "0: 640x384 1 car, 61.3ms\n",
      "Speed: 0.6ms preprocess, 61.3ms inference, 0.6ms postprocess per image at shape (1, 3, 640, 384)\n",
      "\n",
      "0: 640x384 1 car, 59.5ms\n",
      "Speed: 0.5ms preprocess, 59.5ms inference, 0.4ms postprocess per image at shape (1, 3, 640, 384)\n"
     ]
    },
    {
     "name": "stderr",
     "output_type": "stream",
     "text": [
      " 17%|█▋        | 77/451 [00:05<00:23, 15.96it/s]"
     ]
    },
    {
     "name": "stdout",
     "output_type": "stream",
     "text": [
      "\n",
      "0: 640x384 1 car, 65.5ms\n",
      "Speed: 0.9ms preprocess, 65.5ms inference, 0.4ms postprocess per image at shape (1, 3, 640, 384)\n",
      "\n",
      "0: 640x384 1 car, 1 truck, 67.9ms\n",
      "Speed: 0.5ms preprocess, 67.9ms inference, 0.5ms postprocess per image at shape (1, 3, 640, 384)\n"
     ]
    },
    {
     "name": "stderr",
     "output_type": "stream",
     "text": [
      " 18%|█▊        | 79/451 [00:05<00:24, 15.35it/s]"
     ]
    },
    {
     "name": "stdout",
     "output_type": "stream",
     "text": [
      "\n",
      "0: 640x384 1 car, 57.1ms\n",
      "Speed: 0.6ms preprocess, 57.1ms inference, 0.3ms postprocess per image at shape (1, 3, 640, 384)\n",
      "\n",
      "0: 640x384 1 car, 1 truck, 59.1ms\n",
      "Speed: 0.9ms preprocess, 59.1ms inference, 0.3ms postprocess per image at shape (1, 3, 640, 384)\n"
     ]
    },
    {
     "name": "stderr",
     "output_type": "stream",
     "text": [
      " 18%|█▊        | 81/451 [00:05<00:23, 15.56it/s]"
     ]
    },
    {
     "name": "stdout",
     "output_type": "stream",
     "text": [
      "\n",
      "0: 640x384 1 car, 1 truck, 59.2ms\n",
      "Speed: 0.8ms preprocess, 59.2ms inference, 0.3ms postprocess per image at shape (1, 3, 640, 384)\n",
      "\n",
      "0: 640x384 1 car, 1 truck, 59.2ms\n",
      "Speed: 1.0ms preprocess, 59.2ms inference, 0.3ms postprocess per image at shape (1, 3, 640, 384)\n"
     ]
    },
    {
     "name": "stderr",
     "output_type": "stream",
     "text": [
      " 18%|█▊        | 83/451 [00:05<00:23, 15.62it/s]"
     ]
    },
    {
     "name": "stdout",
     "output_type": "stream",
     "text": [
      "\n",
      "0: 640x384 1 car, 1 truck, 55.9ms\n",
      "Speed: 0.5ms preprocess, 55.9ms inference, 0.3ms postprocess per image at shape (1, 3, 640, 384)\n",
      "\n",
      "0: 640x384 1 car, 1 truck, 56.1ms\n",
      "Speed: 0.7ms preprocess, 56.1ms inference, 0.3ms postprocess per image at shape (1, 3, 640, 384)\n"
     ]
    },
    {
     "name": "stderr",
     "output_type": "stream",
     "text": [
      " 19%|█▉        | 85/451 [00:05<00:23, 15.91it/s]"
     ]
    },
    {
     "name": "stdout",
     "output_type": "stream",
     "text": [
      "\n",
      "0: 640x384 1 car, 1 truck, 61.6ms\n",
      "Speed: 0.7ms preprocess, 61.6ms inference, 0.3ms postprocess per image at shape (1, 3, 640, 384)\n",
      "\n",
      "0: 640x384 1 car, 1 truck, 57.4ms\n",
      "Speed: 0.8ms preprocess, 57.4ms inference, 0.3ms postprocess per image at shape (1, 3, 640, 384)\n"
     ]
    },
    {
     "name": "stderr",
     "output_type": "stream",
     "text": [
      " 19%|█▉        | 87/451 [00:05<00:22, 15.85it/s]"
     ]
    },
    {
     "name": "stdout",
     "output_type": "stream",
     "text": [
      "\n",
      "0: 640x384 1 car, 1 truck, 57.0ms\n",
      "Speed: 0.7ms preprocess, 57.0ms inference, 0.3ms postprocess per image at shape (1, 3, 640, 384)\n",
      "\n",
      "0: 640x384 1 car, 1 truck, 55.8ms\n",
      "Speed: 0.4ms preprocess, 55.8ms inference, 0.3ms postprocess per image at shape (1, 3, 640, 384)\n"
     ]
    },
    {
     "name": "stderr",
     "output_type": "stream",
     "text": [
      " 20%|█▉        | 89/451 [00:05<00:22, 16.05it/s]"
     ]
    },
    {
     "name": "stdout",
     "output_type": "stream",
     "text": [
      "\n",
      "0: 640x384 1 car, 1 truck, 55.0ms\n",
      "Speed: 0.4ms preprocess, 55.0ms inference, 0.3ms postprocess per image at shape (1, 3, 640, 384)\n",
      "\n",
      "0: 640x384 1 car, 1 truck, 56.2ms\n",
      "Speed: 0.4ms preprocess, 56.2ms inference, 0.3ms postprocess per image at shape (1, 3, 640, 384)\n"
     ]
    },
    {
     "name": "stderr",
     "output_type": "stream",
     "text": [
      " 20%|██        | 91/451 [00:05<00:22, 16.29it/s]"
     ]
    },
    {
     "name": "stdout",
     "output_type": "stream",
     "text": [
      "\n",
      "0: 640x384 1 car, 1 truck, 56.2ms\n",
      "Speed: 0.4ms preprocess, 56.2ms inference, 0.3ms postprocess per image at shape (1, 3, 640, 384)\n",
      "\n",
      "0: 640x384 1 car, 1 truck, 53.6ms\n",
      "Speed: 0.4ms preprocess, 53.6ms inference, 0.3ms postprocess per image at shape (1, 3, 640, 384)\n"
     ]
    },
    {
     "name": "stderr",
     "output_type": "stream",
     "text": [
      " 21%|██        | 93/451 [00:06<00:21, 16.55it/s]"
     ]
    },
    {
     "name": "stdout",
     "output_type": "stream",
     "text": [
      "\n",
      "0: 640x384 1 car, 53.6ms\n",
      "Speed: 0.4ms preprocess, 53.6ms inference, 0.3ms postprocess per image at shape (1, 3, 640, 384)\n",
      "\n",
      "0: 640x384 1 car, 54.2ms\n",
      "Speed: 0.5ms preprocess, 54.2ms inference, 0.4ms postprocess per image at shape (1, 3, 640, 384)\n"
     ]
    },
    {
     "name": "stderr",
     "output_type": "stream",
     "text": [
      " 21%|██        | 95/451 [00:06<00:21, 16.79it/s]"
     ]
    },
    {
     "name": "stdout",
     "output_type": "stream",
     "text": [
      "\n",
      "0: 640x384 1 car, 56.7ms\n",
      "Speed: 0.4ms preprocess, 56.7ms inference, 0.3ms postprocess per image at shape (1, 3, 640, 384)\n",
      "\n",
      "0: 640x384 1 car, 53.7ms\n",
      "Speed: 0.4ms preprocess, 53.7ms inference, 0.3ms postprocess per image at shape (1, 3, 640, 384)\n"
     ]
    },
    {
     "name": "stderr",
     "output_type": "stream",
     "text": [
      " 22%|██▏       | 97/451 [00:06<00:20, 16.87it/s]"
     ]
    },
    {
     "name": "stdout",
     "output_type": "stream",
     "text": [
      "\n",
      "0: 640x384 1 car, 55.0ms\n",
      "Speed: 0.4ms preprocess, 55.0ms inference, 0.3ms postprocess per image at shape (1, 3, 640, 384)\n",
      "\n",
      "0: 640x384 1 car, 54.3ms\n",
      "Speed: 0.3ms preprocess, 54.3ms inference, 0.3ms postprocess per image at shape (1, 3, 640, 384)\n"
     ]
    },
    {
     "name": "stderr",
     "output_type": "stream",
     "text": [
      " 22%|██▏       | 99/451 [00:06<00:20, 16.98it/s]"
     ]
    },
    {
     "name": "stdout",
     "output_type": "stream",
     "text": [
      "\n",
      "0: 640x384 1 car, 55.8ms\n",
      "Speed: 0.4ms preprocess, 55.8ms inference, 0.3ms postprocess per image at shape (1, 3, 640, 384)\n",
      "\n",
      "0: 640x384 1 car, 1 truck, 53.8ms\n",
      "Speed: 0.4ms preprocess, 53.8ms inference, 0.3ms postprocess per image at shape (1, 3, 640, 384)\n"
     ]
    },
    {
     "name": "stderr",
     "output_type": "stream",
     "text": [
      " 22%|██▏       | 101/451 [00:06<00:20, 17.03it/s]"
     ]
    },
    {
     "name": "stdout",
     "output_type": "stream",
     "text": [
      "\n",
      "0: 640x384 1 car, 1 truck, 53.5ms\n",
      "Speed: 0.4ms preprocess, 53.5ms inference, 0.3ms postprocess per image at shape (1, 3, 640, 384)\n",
      "\n",
      "0: 640x384 1 car, 1 truck, 56.9ms\n",
      "Speed: 0.4ms preprocess, 56.9ms inference, 0.3ms postprocess per image at shape (1, 3, 640, 384)\n"
     ]
    },
    {
     "name": "stderr",
     "output_type": "stream",
     "text": [
      " 23%|██▎       | 103/451 [00:06<00:20, 17.06it/s]"
     ]
    },
    {
     "name": "stdout",
     "output_type": "stream",
     "text": [
      "\n",
      "0: 640x384 1 car, 55.3ms\n",
      "Speed: 0.4ms preprocess, 55.3ms inference, 0.3ms postprocess per image at shape (1, 3, 640, 384)\n",
      "\n",
      "0: 640x384 1 car, 55.0ms\n",
      "Speed: 0.4ms preprocess, 55.0ms inference, 0.3ms postprocess per image at shape (1, 3, 640, 384)\n"
     ]
    },
    {
     "name": "stderr",
     "output_type": "stream",
     "text": [
      " 23%|██▎       | 105/451 [00:06<00:20, 17.08it/s]"
     ]
    },
    {
     "name": "stdout",
     "output_type": "stream",
     "text": [
      "\n",
      "0: 640x384 1 car, 54.8ms\n",
      "Speed: 0.4ms preprocess, 54.8ms inference, 0.3ms postprocess per image at shape (1, 3, 640, 384)\n",
      "\n",
      "0: 640x384 1 car, 53.6ms\n",
      "Speed: 0.4ms preprocess, 53.6ms inference, 0.3ms postprocess per image at shape (1, 3, 640, 384)\n"
     ]
    },
    {
     "name": "stderr",
     "output_type": "stream",
     "text": [
      " 24%|██▎       | 107/451 [00:06<00:20, 17.19it/s]"
     ]
    },
    {
     "name": "stdout",
     "output_type": "stream",
     "text": [
      "\n",
      "0: 640x384 1 car, 57.7ms\n",
      "Speed: 0.4ms preprocess, 57.7ms inference, 0.4ms postprocess per image at shape (1, 3, 640, 384)\n",
      "\n",
      "0: 640x384 1 car, 57.2ms\n",
      "Speed: 0.8ms preprocess, 57.2ms inference, 0.4ms postprocess per image at shape (1, 3, 640, 384)\n"
     ]
    },
    {
     "name": "stderr",
     "output_type": "stream",
     "text": [
      " 24%|██▍       | 109/451 [00:06<00:20, 16.89it/s]"
     ]
    },
    {
     "name": "stdout",
     "output_type": "stream",
     "text": [
      "\n",
      "0: 640x384 1 car, 58.2ms\n",
      "Speed: 0.7ms preprocess, 58.2ms inference, 0.3ms postprocess per image at shape (1, 3, 640, 384)\n",
      "\n",
      "0: 640x384 1 car, 58.1ms\n",
      "Speed: 0.5ms preprocess, 58.1ms inference, 0.3ms postprocess per image at shape (1, 3, 640, 384)\n"
     ]
    },
    {
     "name": "stderr",
     "output_type": "stream",
     "text": [
      " 25%|██▍       | 111/451 [00:07<00:20, 16.66it/s]"
     ]
    },
    {
     "name": "stdout",
     "output_type": "stream",
     "text": [
      "\n",
      "0: 640x384 1 car, 61.6ms\n",
      "Speed: 0.7ms preprocess, 61.6ms inference, 0.3ms postprocess per image at shape (1, 3, 640, 384)\n",
      "\n",
      "0: 640x384 1 car, 62.2ms\n",
      "Speed: 0.5ms preprocess, 62.2ms inference, 0.5ms postprocess per image at shape (1, 3, 640, 384)\n"
     ]
    },
    {
     "name": "stderr",
     "output_type": "stream",
     "text": [
      " 25%|██▌       | 113/451 [00:07<00:20, 16.19it/s]"
     ]
    },
    {
     "name": "stdout",
     "output_type": "stream",
     "text": [
      "\n",
      "0: 640x384 1 car, 67.0ms\n",
      "Speed: 0.5ms preprocess, 67.0ms inference, 0.3ms postprocess per image at shape (1, 3, 640, 384)\n",
      "\n",
      "0: 640x384 1 car, 58.1ms\n",
      "Speed: 0.5ms preprocess, 58.1ms inference, 0.3ms postprocess per image at shape (1, 3, 640, 384)\n"
     ]
    },
    {
     "name": "stderr",
     "output_type": "stream",
     "text": [
      " 25%|██▌       | 115/451 [00:07<00:21, 15.84it/s]"
     ]
    },
    {
     "name": "stdout",
     "output_type": "stream",
     "text": [
      "\n",
      "0: 640x384 1 car, 59.5ms\n",
      "Speed: 0.6ms preprocess, 59.5ms inference, 0.3ms postprocess per image at shape (1, 3, 640, 384)\n",
      "\n",
      "0: 640x384 1 car, 58.8ms\n",
      "Speed: 0.4ms preprocess, 58.8ms inference, 0.3ms postprocess per image at shape (1, 3, 640, 384)\n"
     ]
    },
    {
     "name": "stderr",
     "output_type": "stream",
     "text": [
      " 26%|██▌       | 117/451 [00:07<00:21, 15.86it/s]"
     ]
    },
    {
     "name": "stdout",
     "output_type": "stream",
     "text": [
      "\n",
      "0: 640x384 1 car, 57.0ms\n",
      "Speed: 0.5ms preprocess, 57.0ms inference, 0.3ms postprocess per image at shape (1, 3, 640, 384)\n",
      "\n",
      "0: 640x384 1 car, 57.0ms\n",
      "Speed: 0.5ms preprocess, 57.0ms inference, 0.3ms postprocess per image at shape (1, 3, 640, 384)\n"
     ]
    },
    {
     "name": "stderr",
     "output_type": "stream",
     "text": [
      " 26%|██▋       | 119/451 [00:07<00:20, 16.04it/s]"
     ]
    },
    {
     "name": "stdout",
     "output_type": "stream",
     "text": [
      "\n",
      "0: 640x384 1 car, 68.8ms\n",
      "Speed: 0.4ms preprocess, 68.8ms inference, 0.3ms postprocess per image at shape (1, 3, 640, 384)\n",
      "\n",
      "0: 640x384 1 car, 56.8ms\n",
      "Speed: 0.5ms preprocess, 56.8ms inference, 0.3ms postprocess per image at shape (1, 3, 640, 384)\n"
     ]
    },
    {
     "name": "stderr",
     "output_type": "stream",
     "text": [
      " 27%|██▋       | 121/451 [00:07<00:21, 15.69it/s]"
     ]
    },
    {
     "name": "stdout",
     "output_type": "stream",
     "text": [
      "\n",
      "0: 640x384 1 car, 57.9ms\n",
      "Speed: 0.4ms preprocess, 57.9ms inference, 0.4ms postprocess per image at shape (1, 3, 640, 384)\n",
      "\n",
      "0: 640x384 1 car, 56.5ms\n",
      "Speed: 0.6ms preprocess, 56.5ms inference, 0.3ms postprocess per image at shape (1, 3, 640, 384)\n"
     ]
    },
    {
     "name": "stderr",
     "output_type": "stream",
     "text": [
      " 27%|██▋       | 123/451 [00:07<00:20, 15.90it/s]"
     ]
    },
    {
     "name": "stdout",
     "output_type": "stream",
     "text": [
      "\n",
      "0: 640x384 1 car, 58.1ms\n",
      "Speed: 0.8ms preprocess, 58.1ms inference, 0.3ms postprocess per image at shape (1, 3, 640, 384)\n",
      "\n",
      "0: 640x384 1 car, 57.6ms\n",
      "Speed: 0.8ms preprocess, 57.6ms inference, 0.3ms postprocess per image at shape (1, 3, 640, 384)\n"
     ]
    },
    {
     "name": "stderr",
     "output_type": "stream",
     "text": [
      " 28%|██▊       | 125/451 [00:07<00:20, 15.99it/s]"
     ]
    },
    {
     "name": "stdout",
     "output_type": "stream",
     "text": [
      "\n",
      "0: 640x384 1 car, 1 truck, 56.6ms\n",
      "Speed: 0.4ms preprocess, 56.6ms inference, 0.3ms postprocess per image at shape (1, 3, 640, 384)\n",
      "\n",
      "0: 640x384 1 car, 56.1ms\n",
      "Speed: 0.6ms preprocess, 56.1ms inference, 0.4ms postprocess per image at shape (1, 3, 640, 384)\n"
     ]
    },
    {
     "name": "stderr",
     "output_type": "stream",
     "text": [
      " 28%|██▊       | 127/451 [00:08<00:20, 16.15it/s]"
     ]
    },
    {
     "name": "stdout",
     "output_type": "stream",
     "text": [
      "\n",
      "0: 640x384 1 car, 55.6ms\n",
      "Speed: 0.5ms preprocess, 55.6ms inference, 0.3ms postprocess per image at shape (1, 3, 640, 384)\n",
      "\n",
      "0: 640x384 1 car, 51.6ms\n",
      "Speed: 0.4ms preprocess, 51.6ms inference, 0.3ms postprocess per image at shape (1, 3, 640, 384)\n"
     ]
    },
    {
     "name": "stderr",
     "output_type": "stream",
     "text": [
      " 29%|██▊       | 129/451 [00:08<00:19, 16.55it/s]"
     ]
    },
    {
     "name": "stdout",
     "output_type": "stream",
     "text": [
      "\n",
      "0: 640x384 1 car, 54.9ms\n",
      "Speed: 0.4ms preprocess, 54.9ms inference, 0.3ms postprocess per image at shape (1, 3, 640, 384)\n",
      "\n",
      "0: 640x384 1 car, 52.9ms\n",
      "Speed: 0.4ms preprocess, 52.9ms inference, 0.3ms postprocess per image at shape (1, 3, 640, 384)\n"
     ]
    },
    {
     "name": "stderr",
     "output_type": "stream",
     "text": [
      " 29%|██▉       | 131/451 [00:08<00:19, 16.82it/s]"
     ]
    },
    {
     "name": "stdout",
     "output_type": "stream",
     "text": [
      "\n",
      "0: 640x384 1 car, 55.8ms\n",
      "Speed: 0.4ms preprocess, 55.8ms inference, 0.3ms postprocess per image at shape (1, 3, 640, 384)\n",
      "\n",
      "0: 640x384 1 car, 1 truck, 54.6ms\n",
      "Speed: 0.4ms preprocess, 54.6ms inference, 0.3ms postprocess per image at shape (1, 3, 640, 384)\n"
     ]
    },
    {
     "name": "stderr",
     "output_type": "stream",
     "text": [
      " 29%|██▉       | 133/451 [00:08<00:18, 16.85it/s]"
     ]
    },
    {
     "name": "stdout",
     "output_type": "stream",
     "text": [
      "\n",
      "0: 640x384 1 car, 1 truck, 54.6ms\n",
      "Speed: 0.4ms preprocess, 54.6ms inference, 0.3ms postprocess per image at shape (1, 3, 640, 384)\n",
      "\n",
      "0: 640x384 1 car, 1 truck, 55.1ms\n",
      "Speed: 0.4ms preprocess, 55.1ms inference, 0.3ms postprocess per image at shape (1, 3, 640, 384)\n"
     ]
    },
    {
     "name": "stderr",
     "output_type": "stream",
     "text": [
      " 30%|██▉       | 135/451 [00:08<00:18, 16.96it/s]"
     ]
    },
    {
     "name": "stdout",
     "output_type": "stream",
     "text": [
      "\n",
      "0: 640x384 1 car, 52.3ms\n",
      "Speed: 0.4ms preprocess, 52.3ms inference, 0.3ms postprocess per image at shape (1, 3, 640, 384)\n",
      "\n",
      "0: 640x384 1 car, 53.9ms\n",
      "Speed: 0.4ms preprocess, 53.9ms inference, 0.3ms postprocess per image at shape (1, 3, 640, 384)\n"
     ]
    },
    {
     "name": "stderr",
     "output_type": "stream",
     "text": [
      " 30%|███       | 137/451 [00:08<00:18, 17.19it/s]"
     ]
    },
    {
     "name": "stdout",
     "output_type": "stream",
     "text": [
      "\n",
      "0: 640x384 1 car, 52.8ms\n",
      "Speed: 0.4ms preprocess, 52.8ms inference, 0.4ms postprocess per image at shape (1, 3, 640, 384)\n",
      "\n",
      "0: 640x384 1 car, 55.2ms\n",
      "Speed: 0.4ms preprocess, 55.2ms inference, 0.3ms postprocess per image at shape (1, 3, 640, 384)\n"
     ]
    },
    {
     "name": "stderr",
     "output_type": "stream",
     "text": [
      " 31%|███       | 139/451 [00:08<00:18, 17.27it/s]"
     ]
    },
    {
     "name": "stdout",
     "output_type": "stream",
     "text": [
      "\n",
      "0: 640x384 1 car, 53.4ms\n",
      "Speed: 0.4ms preprocess, 53.4ms inference, 0.3ms postprocess per image at shape (1, 3, 640, 384)\n",
      "\n",
      "0: 640x384 1 car, 53.9ms\n",
      "Speed: 0.5ms preprocess, 53.9ms inference, 0.3ms postprocess per image at shape (1, 3, 640, 384)\n"
     ]
    },
    {
     "name": "stderr",
     "output_type": "stream",
     "text": [
      " 31%|███▏      | 141/451 [00:08<00:17, 17.36it/s]"
     ]
    },
    {
     "name": "stdout",
     "output_type": "stream",
     "text": [
      "\n",
      "0: 640x384 1 car, 55.1ms\n",
      "Speed: 0.4ms preprocess, 55.1ms inference, 0.3ms postprocess per image at shape (1, 3, 640, 384)\n",
      "\n",
      "0: 640x384 1 car, 58.4ms\n",
      "Speed: 0.4ms preprocess, 58.4ms inference, 0.6ms postprocess per image at shape (1, 3, 640, 384)\n"
     ]
    },
    {
     "name": "stderr",
     "output_type": "stream",
     "text": [
      " 32%|███▏      | 143/451 [00:09<00:17, 17.13it/s]"
     ]
    },
    {
     "name": "stdout",
     "output_type": "stream",
     "text": [
      "\n",
      "0: 640x384 1 car, 52.4ms\n",
      "Speed: 0.4ms preprocess, 52.4ms inference, 0.3ms postprocess per image at shape (1, 3, 640, 384)\n",
      "\n",
      "0: 640x384 2 cars, 53.9ms\n",
      "Speed: 0.4ms preprocess, 53.9ms inference, 0.3ms postprocess per image at shape (1, 3, 640, 384)\n"
     ]
    },
    {
     "name": "stderr",
     "output_type": "stream",
     "text": [
      " 32%|███▏      | 145/451 [00:09<00:17, 17.25it/s]"
     ]
    },
    {
     "name": "stdout",
     "output_type": "stream",
     "text": [
      "\n",
      "0: 640x384 (no detections), 54.4ms\n",
      "Speed: 0.4ms preprocess, 54.4ms inference, 0.2ms postprocess per image at shape (1, 3, 640, 384)\n",
      "\n",
      "0: 640x384 (no detections), 57.2ms\n",
      "Speed: 0.4ms preprocess, 57.2ms inference, 0.2ms postprocess per image at shape (1, 3, 640, 384)\n"
     ]
    },
    {
     "name": "stderr",
     "output_type": "stream",
     "text": [
      " 33%|███▎      | 147/451 [00:09<00:17, 17.15it/s]"
     ]
    },
    {
     "name": "stdout",
     "output_type": "stream",
     "text": [
      "\n",
      "0: 640x384 (no detections), 70.1ms\n",
      "Speed: 0.4ms preprocess, 70.1ms inference, 0.3ms postprocess per image at shape (1, 3, 640, 384)\n",
      "\n",
      "0: 640x384 1 truck, 67.4ms\n",
      "Speed: 0.9ms preprocess, 67.4ms inference, 0.3ms postprocess per image at shape (1, 3, 640, 384)\n"
     ]
    },
    {
     "name": "stderr",
     "output_type": "stream",
     "text": [
      " 33%|███▎      | 149/451 [00:09<00:18, 15.99it/s]"
     ]
    },
    {
     "name": "stdout",
     "output_type": "stream",
     "text": [
      "\n",
      "0: 640x384 (no detections), 55.4ms\n",
      "Speed: 0.5ms preprocess, 55.4ms inference, 0.2ms postprocess per image at shape (1, 3, 640, 384)\n",
      "\n",
      "0: 640x384 (no detections), 61.4ms\n",
      "Speed: 0.5ms preprocess, 61.4ms inference, 0.2ms postprocess per image at shape (1, 3, 640, 384)\n"
     ]
    },
    {
     "name": "stderr",
     "output_type": "stream",
     "text": [
      " 33%|███▎      | 151/451 [00:09<00:18, 16.03it/s]"
     ]
    },
    {
     "name": "stdout",
     "output_type": "stream",
     "text": [
      "\n",
      "0: 640x384 (no detections), 57.0ms\n",
      "Speed: 0.4ms preprocess, 57.0ms inference, 0.4ms postprocess per image at shape (1, 3, 640, 384)\n",
      "\n",
      "0: 640x384 1 truck, 56.8ms\n",
      "Speed: 0.4ms preprocess, 56.8ms inference, 0.3ms postprocess per image at shape (1, 3, 640, 384)\n"
     ]
    },
    {
     "name": "stderr",
     "output_type": "stream",
     "text": [
      " 34%|███▍      | 153/451 [00:09<00:18, 16.17it/s]"
     ]
    },
    {
     "name": "stdout",
     "output_type": "stream",
     "text": [
      "\n",
      "0: 640x384 (no detections), 56.5ms\n",
      "Speed: 0.4ms preprocess, 56.5ms inference, 0.5ms postprocess per image at shape (1, 3, 640, 384)\n",
      "\n",
      "0: 640x384 1 car, 57.8ms\n",
      "Speed: 0.5ms preprocess, 57.8ms inference, 0.3ms postprocess per image at shape (1, 3, 640, 384)\n"
     ]
    },
    {
     "name": "stderr",
     "output_type": "stream",
     "text": [
      " 34%|███▍      | 155/451 [00:09<00:18, 16.25it/s]"
     ]
    },
    {
     "name": "stdout",
     "output_type": "stream",
     "text": [
      "\n",
      "0: 640x384 1 car, 1 truck, 57.8ms\n",
      "Speed: 0.9ms preprocess, 57.8ms inference, 0.4ms postprocess per image at shape (1, 3, 640, 384)\n",
      "\n",
      "0: 640x384 1 car, 56.9ms\n",
      "Speed: 0.5ms preprocess, 56.9ms inference, 0.3ms postprocess per image at shape (1, 3, 640, 384)\n"
     ]
    },
    {
     "name": "stderr",
     "output_type": "stream",
     "text": [
      " 35%|███▍      | 157/451 [00:09<00:18, 16.26it/s]"
     ]
    },
    {
     "name": "stdout",
     "output_type": "stream",
     "text": [
      "\n",
      "0: 640x384 1 car, 55.0ms\n",
      "Speed: 0.5ms preprocess, 55.0ms inference, 0.4ms postprocess per image at shape (1, 3, 640, 384)\n",
      "\n",
      "0: 640x384 1 car, 58.7ms\n",
      "Speed: 0.4ms preprocess, 58.7ms inference, 0.4ms postprocess per image at shape (1, 3, 640, 384)\n"
     ]
    },
    {
     "name": "stderr",
     "output_type": "stream",
     "text": [
      " 35%|███▌      | 159/451 [00:10<00:17, 16.33it/s]"
     ]
    },
    {
     "name": "stdout",
     "output_type": "stream",
     "text": [
      "\n",
      "0: 640x384 1 car, 57.0ms\n",
      "Speed: 0.4ms preprocess, 57.0ms inference, 0.3ms postprocess per image at shape (1, 3, 640, 384)\n",
      "\n",
      "0: 640x384 1 car, 55.3ms\n",
      "Speed: 0.5ms preprocess, 55.3ms inference, 0.3ms postprocess per image at shape (1, 3, 640, 384)\n"
     ]
    },
    {
     "name": "stderr",
     "output_type": "stream",
     "text": [
      " 36%|███▌      | 161/451 [00:10<00:17, 16.40it/s]"
     ]
    },
    {
     "name": "stdout",
     "output_type": "stream",
     "text": [
      "\n",
      "0: 640x384 1 car, 58.3ms\n",
      "Speed: 0.8ms preprocess, 58.3ms inference, 0.3ms postprocess per image at shape (1, 3, 640, 384)\n",
      "\n",
      "0: 640x384 1 car, 56.4ms\n",
      "Speed: 0.6ms preprocess, 56.4ms inference, 0.3ms postprocess per image at shape (1, 3, 640, 384)\n"
     ]
    },
    {
     "name": "stderr",
     "output_type": "stream",
     "text": [
      " 36%|███▌      | 163/451 [00:10<00:17, 16.39it/s]"
     ]
    },
    {
     "name": "stdout",
     "output_type": "stream",
     "text": [
      "\n",
      "0: 640x384 1 car, 58.5ms\n",
      "Speed: 0.5ms preprocess, 58.5ms inference, 0.3ms postprocess per image at shape (1, 3, 640, 384)\n",
      "\n",
      "0: 640x384 1 car, 1 truck, 57.3ms\n",
      "Speed: 0.7ms preprocess, 57.3ms inference, 0.4ms postprocess per image at shape (1, 3, 640, 384)\n"
     ]
    },
    {
     "name": "stderr",
     "output_type": "stream",
     "text": [
      " 37%|███▋      | 165/451 [00:10<00:17, 16.35it/s]"
     ]
    },
    {
     "name": "stdout",
     "output_type": "stream",
     "text": [
      "\n",
      "0: 640x384 1 car, 52.1ms\n",
      "Speed: 0.5ms preprocess, 52.1ms inference, 0.3ms postprocess per image at shape (1, 3, 640, 384)\n",
      "\n",
      "0: 640x384 1 car, 53.4ms\n",
      "Speed: 0.4ms preprocess, 53.4ms inference, 0.3ms postprocess per image at shape (1, 3, 640, 384)\n"
     ]
    },
    {
     "name": "stderr",
     "output_type": "stream",
     "text": [
      " 37%|███▋      | 167/451 [00:10<00:16, 16.73it/s]"
     ]
    },
    {
     "name": "stdout",
     "output_type": "stream",
     "text": [
      "\n",
      "0: 640x384 1 car, 1 truck, 53.4ms\n",
      "Speed: 0.4ms preprocess, 53.4ms inference, 0.3ms postprocess per image at shape (1, 3, 640, 384)\n",
      "\n",
      "0: 640x384 1 car, 81.7ms\n",
      "Speed: 0.4ms preprocess, 81.7ms inference, 0.3ms postprocess per image at shape (1, 3, 640, 384)\n"
     ]
    },
    {
     "name": "stderr",
     "output_type": "stream",
     "text": [
      " 37%|███▋      | 169/451 [00:10<00:17, 15.83it/s]"
     ]
    },
    {
     "name": "stdout",
     "output_type": "stream",
     "text": [
      "\n",
      "0: 640x384 1 car, 60.5ms\n",
      "Speed: 0.5ms preprocess, 60.5ms inference, 0.4ms postprocess per image at shape (1, 3, 640, 384)\n",
      "\n",
      "0: 640x384 1 car, 55.1ms\n",
      "Speed: 0.5ms preprocess, 55.1ms inference, 0.3ms postprocess per image at shape (1, 3, 640, 384)\n"
     ]
    },
    {
     "name": "stderr",
     "output_type": "stream",
     "text": [
      " 38%|███▊      | 171/451 [00:10<00:17, 15.95it/s]"
     ]
    },
    {
     "name": "stdout",
     "output_type": "stream",
     "text": [
      "\n",
      "0: 640x384 1 car, 57.6ms\n",
      "Speed: 0.4ms preprocess, 57.6ms inference, 0.3ms postprocess per image at shape (1, 3, 640, 384)\n",
      "\n",
      "0: 640x384 1 car, 58.2ms\n",
      "Speed: 0.6ms preprocess, 58.2ms inference, 0.3ms postprocess per image at shape (1, 3, 640, 384)\n"
     ]
    },
    {
     "name": "stderr",
     "output_type": "stream",
     "text": [
      " 38%|███▊      | 173/451 [00:10<00:17, 16.07it/s]"
     ]
    },
    {
     "name": "stdout",
     "output_type": "stream",
     "text": [
      "\n",
      "0: 640x384 1 car, 1 truck, 59.1ms\n",
      "Speed: 0.4ms preprocess, 59.1ms inference, 0.7ms postprocess per image at shape (1, 3, 640, 384)\n",
      "\n",
      "0: 640x384 1 car, 57.6ms\n",
      "Speed: 0.5ms preprocess, 57.6ms inference, 0.3ms postprocess per image at shape (1, 3, 640, 384)\n"
     ]
    },
    {
     "name": "stderr",
     "output_type": "stream",
     "text": [
      " 39%|███▉      | 175/451 [00:11<00:17, 16.07it/s]"
     ]
    },
    {
     "name": "stdout",
     "output_type": "stream",
     "text": [
      "\n",
      "0: 640x384 1 car, 59.1ms\n",
      "Speed: 0.4ms preprocess, 59.1ms inference, 0.4ms postprocess per image at shape (1, 3, 640, 384)\n",
      "\n",
      "0: 640x384 1 car, 55.6ms\n",
      "Speed: 0.4ms preprocess, 55.6ms inference, 0.3ms postprocess per image at shape (1, 3, 640, 384)\n"
     ]
    },
    {
     "name": "stderr",
     "output_type": "stream",
     "text": [
      " 39%|███▉      | 177/451 [00:11<00:16, 16.19it/s]"
     ]
    },
    {
     "name": "stdout",
     "output_type": "stream",
     "text": [
      "\n",
      "0: 640x384 1 car, 60.3ms\n",
      "Speed: 0.4ms preprocess, 60.3ms inference, 0.3ms postprocess per image at shape (1, 3, 640, 384)\n",
      "\n",
      "0: 640x384 1 car, 57.6ms\n",
      "Speed: 0.4ms preprocess, 57.6ms inference, 0.4ms postprocess per image at shape (1, 3, 640, 384)\n"
     ]
    },
    {
     "name": "stderr",
     "output_type": "stream",
     "text": [
      " 40%|███▉      | 179/451 [00:11<00:16, 16.14it/s]"
     ]
    },
    {
     "name": "stdout",
     "output_type": "stream",
     "text": [
      "\n",
      "0: 640x384 1 car, 56.1ms\n",
      "Speed: 0.5ms preprocess, 56.1ms inference, 0.3ms postprocess per image at shape (1, 3, 640, 384)\n",
      "\n",
      "0: 640x384 1 car, 77.8ms\n",
      "Speed: 0.4ms preprocess, 77.8ms inference, 0.3ms postprocess per image at shape (1, 3, 640, 384)\n"
     ]
    },
    {
     "name": "stderr",
     "output_type": "stream",
     "text": [
      " 40%|████      | 181/451 [00:11<00:17, 15.50it/s]"
     ]
    },
    {
     "name": "stdout",
     "output_type": "stream",
     "text": [
      "\n",
      "0: 640x384 1 car, 55.0ms\n",
      "Speed: 0.4ms preprocess, 55.0ms inference, 0.3ms postprocess per image at shape (1, 3, 640, 384)\n",
      "\n",
      "0: 640x384 1 car, 55.9ms\n",
      "Speed: 0.4ms preprocess, 55.9ms inference, 0.3ms postprocess per image at shape (1, 3, 640, 384)\n"
     ]
    },
    {
     "name": "stderr",
     "output_type": "stream",
     "text": [
      " 41%|████      | 183/451 [00:11<00:16, 15.92it/s]"
     ]
    },
    {
     "name": "stdout",
     "output_type": "stream",
     "text": [
      "\n",
      "0: 640x384 1 car, 58.4ms\n",
      "Speed: 0.4ms preprocess, 58.4ms inference, 0.7ms postprocess per image at shape (1, 3, 640, 384)\n",
      "\n",
      "0: 640x384 1 car, 57.1ms\n",
      "Speed: 0.6ms preprocess, 57.1ms inference, 2.5ms postprocess per image at shape (1, 3, 640, 384)\n"
     ]
    },
    {
     "name": "stderr",
     "output_type": "stream",
     "text": [
      " 41%|████      | 185/451 [00:11<00:16, 15.89it/s]"
     ]
    },
    {
     "name": "stdout",
     "output_type": "stream",
     "text": [
      "\n",
      "0: 640x384 1 car, 57.6ms\n",
      "Speed: 0.5ms preprocess, 57.6ms inference, 0.4ms postprocess per image at shape (1, 3, 640, 384)\n",
      "\n",
      "0: 640x384 1 car, 58.9ms\n",
      "Speed: 0.5ms preprocess, 58.9ms inference, 0.3ms postprocess per image at shape (1, 3, 640, 384)\n"
     ]
    },
    {
     "name": "stderr",
     "output_type": "stream",
     "text": [
      " 41%|████▏     | 187/451 [00:11<00:16, 15.91it/s]"
     ]
    },
    {
     "name": "stdout",
     "output_type": "stream",
     "text": [
      "\n",
      "0: 640x384 1 car, 59.5ms\n",
      "Speed: 0.5ms preprocess, 59.5ms inference, 0.3ms postprocess per image at shape (1, 3, 640, 384)\n",
      "\n",
      "0: 640x384 1 truck, 92.9ms\n",
      "Speed: 0.5ms preprocess, 92.9ms inference, 0.3ms postprocess per image at shape (1, 3, 640, 384)\n"
     ]
    },
    {
     "name": "stderr",
     "output_type": "stream",
     "text": [
      " 42%|████▏     | 189/451 [00:11<00:17, 14.68it/s]"
     ]
    },
    {
     "name": "stdout",
     "output_type": "stream",
     "text": [
      "\n",
      "0: 640x384 1 car, 1 truck, 61.8ms\n",
      "Speed: 0.6ms preprocess, 61.8ms inference, 0.6ms postprocess per image at shape (1, 3, 640, 384)\n",
      "\n",
      "0: 640x384 1 car, 1 truck, 65.2ms\n",
      "Speed: 0.6ms preprocess, 65.2ms inference, 0.4ms postprocess per image at shape (1, 3, 640, 384)\n"
     ]
    },
    {
     "name": "stderr",
     "output_type": "stream",
     "text": [
      " 42%|████▏     | 191/451 [00:12<00:17, 14.70it/s]"
     ]
    },
    {
     "name": "stdout",
     "output_type": "stream",
     "text": [
      "\n",
      "0: 640x384 1 car, 1 truck, 62.6ms\n",
      "Speed: 0.6ms preprocess, 62.6ms inference, 0.4ms postprocess per image at shape (1, 3, 640, 384)\n",
      "\n",
      "0: 640x384 1 car, 1 truck, 76.0ms\n",
      "Speed: 0.7ms preprocess, 76.0ms inference, 0.4ms postprocess per image at shape (1, 3, 640, 384)\n"
     ]
    },
    {
     "name": "stderr",
     "output_type": "stream",
     "text": [
      " 43%|████▎     | 193/451 [00:12<00:18, 14.31it/s]"
     ]
    },
    {
     "name": "stdout",
     "output_type": "stream",
     "text": [
      "\n",
      "0: 640x384 1 car, 87.0ms\n",
      "Speed: 0.6ms preprocess, 87.0ms inference, 0.4ms postprocess per image at shape (1, 3, 640, 384)\n",
      "\n",
      "0: 640x384 1 car, 63.4ms\n",
      "Speed: 0.7ms preprocess, 63.4ms inference, 0.4ms postprocess per image at shape (1, 3, 640, 384)\n"
     ]
    },
    {
     "name": "stderr",
     "output_type": "stream",
     "text": [
      " 43%|████▎     | 195/451 [00:12<00:18, 13.75it/s]"
     ]
    },
    {
     "name": "stdout",
     "output_type": "stream",
     "text": [
      "\n",
      "0: 640x384 1 car, 1 truck, 62.4ms\n",
      "Speed: 0.5ms preprocess, 62.4ms inference, 0.3ms postprocess per image at shape (1, 3, 640, 384)\n",
      "\n",
      "0: 640x384 1 car, 60.4ms\n",
      "Speed: 0.9ms preprocess, 60.4ms inference, 0.3ms postprocess per image at shape (1, 3, 640, 384)\n"
     ]
    },
    {
     "name": "stderr",
     "output_type": "stream",
     "text": [
      " 44%|████▎     | 197/451 [00:12<00:17, 14.15it/s]"
     ]
    },
    {
     "name": "stdout",
     "output_type": "stream",
     "text": [
      "\n",
      "0: 640x384 1 car, 57.1ms\n",
      "Speed: 0.6ms preprocess, 57.1ms inference, 0.4ms postprocess per image at shape (1, 3, 640, 384)\n",
      "\n",
      "0: 640x384 1 car, 59.5ms\n",
      "Speed: 0.7ms preprocess, 59.5ms inference, 0.3ms postprocess per image at shape (1, 3, 640, 384)\n"
     ]
    },
    {
     "name": "stderr",
     "output_type": "stream",
     "text": [
      " 44%|████▍     | 199/451 [00:12<00:17, 14.68it/s]"
     ]
    },
    {
     "name": "stdout",
     "output_type": "stream",
     "text": [
      "\n",
      "0: 640x384 1 truck, 59.4ms\n",
      "Speed: 0.4ms preprocess, 59.4ms inference, 0.4ms postprocess per image at shape (1, 3, 640, 384)\n",
      "\n",
      "0: 640x384 1 truck, 57.3ms\n",
      "Speed: 0.7ms preprocess, 57.3ms inference, 0.4ms postprocess per image at shape (1, 3, 640, 384)\n"
     ]
    },
    {
     "name": "stderr",
     "output_type": "stream",
     "text": [
      " 45%|████▍     | 201/451 [00:12<00:16, 15.07it/s]"
     ]
    },
    {
     "name": "stdout",
     "output_type": "stream",
     "text": [
      "\n",
      "0: 640x384 1 truck, 56.8ms\n",
      "Speed: 0.4ms preprocess, 56.8ms inference, 0.3ms postprocess per image at shape (1, 3, 640, 384)\n",
      "\n",
      "0: 640x384 1 truck, 55.4ms\n",
      "Speed: 0.5ms preprocess, 55.4ms inference, 0.3ms postprocess per image at shape (1, 3, 640, 384)\n"
     ]
    },
    {
     "name": "stderr",
     "output_type": "stream",
     "text": [
      " 45%|████▌     | 203/451 [00:12<00:15, 15.55it/s]"
     ]
    },
    {
     "name": "stdout",
     "output_type": "stream",
     "text": [
      "\n",
      "0: 640x384 1 car, 59.1ms\n",
      "Speed: 0.4ms preprocess, 59.1ms inference, 0.7ms postprocess per image at shape (1, 3, 640, 384)\n",
      "\n",
      "0: 640x384 1 car, 61.5ms\n",
      "Speed: 0.4ms preprocess, 61.5ms inference, 0.4ms postprocess per image at shape (1, 3, 640, 384)\n"
     ]
    },
    {
     "name": "stderr",
     "output_type": "stream",
     "text": [
      " 45%|████▌     | 205/451 [00:12<00:15, 15.57it/s]"
     ]
    },
    {
     "name": "stdout",
     "output_type": "stream",
     "text": [
      "\n",
      "0: 640x384 1 car, 59.9ms\n",
      "Speed: 0.6ms preprocess, 59.9ms inference, 0.4ms postprocess per image at shape (1, 3, 640, 384)\n",
      "\n",
      "0: 640x384 1 car, 56.6ms\n",
      "Speed: 0.4ms preprocess, 56.6ms inference, 0.3ms postprocess per image at shape (1, 3, 640, 384)\n"
     ]
    },
    {
     "name": "stderr",
     "output_type": "stream",
     "text": [
      " 46%|████▌     | 207/451 [00:13<00:15, 15.73it/s]"
     ]
    },
    {
     "name": "stdout",
     "output_type": "stream",
     "text": [
      "\n",
      "0: 640x384 1 car, 61.2ms\n",
      "Speed: 0.5ms preprocess, 61.2ms inference, 0.3ms postprocess per image at shape (1, 3, 640, 384)\n",
      "\n",
      "0: 640x384 1 car, 59.4ms\n",
      "Speed: 0.5ms preprocess, 59.4ms inference, 0.3ms postprocess per image at shape (1, 3, 640, 384)\n"
     ]
    },
    {
     "name": "stderr",
     "output_type": "stream",
     "text": [
      " 46%|████▋     | 209/451 [00:13<00:15, 15.72it/s]"
     ]
    },
    {
     "name": "stdout",
     "output_type": "stream",
     "text": [
      "\n",
      "0: 640x384 1 car, 61.4ms\n",
      "Speed: 0.8ms preprocess, 61.4ms inference, 0.3ms postprocess per image at shape (1, 3, 640, 384)\n",
      "\n",
      "0: 640x384 1 car, 58.5ms\n",
      "Speed: 0.4ms preprocess, 58.5ms inference, 0.6ms postprocess per image at shape (1, 3, 640, 384)\n"
     ]
    },
    {
     "name": "stderr",
     "output_type": "stream",
     "text": [
      " 47%|████▋     | 211/451 [00:13<00:15, 15.70it/s]"
     ]
    },
    {
     "name": "stdout",
     "output_type": "stream",
     "text": [
      "\n",
      "0: 640x384 1 truck, 56.2ms\n",
      "Speed: 0.4ms preprocess, 56.2ms inference, 0.3ms postprocess per image at shape (1, 3, 640, 384)\n",
      "\n",
      "0: 640x384 1 car, 58.7ms\n",
      "Speed: 0.4ms preprocess, 58.7ms inference, 0.3ms postprocess per image at shape (1, 3, 640, 384)\n"
     ]
    },
    {
     "name": "stderr",
     "output_type": "stream",
     "text": [
      " 47%|████▋     | 213/451 [00:13<00:14, 15.92it/s]"
     ]
    },
    {
     "name": "stdout",
     "output_type": "stream",
     "text": [
      "\n",
      "0: 640x384 1 car, 1 truck, 54.7ms\n",
      "Speed: 0.4ms preprocess, 54.7ms inference, 0.4ms postprocess per image at shape (1, 3, 640, 384)\n",
      "\n",
      "0: 640x384 1 car, 57.2ms\n",
      "Speed: 0.5ms preprocess, 57.2ms inference, 0.3ms postprocess per image at shape (1, 3, 640, 384)\n"
     ]
    },
    {
     "name": "stderr",
     "output_type": "stream",
     "text": [
      " 48%|████▊     | 215/451 [00:13<00:14, 16.16it/s]"
     ]
    },
    {
     "name": "stdout",
     "output_type": "stream",
     "text": [
      "\n",
      "0: 640x384 1 car, 85.7ms\n",
      "Speed: 0.5ms preprocess, 85.7ms inference, 0.3ms postprocess per image at shape (1, 3, 640, 384)\n",
      "\n",
      "0: 640x384 1 car, 58.4ms\n",
      "Speed: 0.7ms preprocess, 58.4ms inference, 0.3ms postprocess per image at shape (1, 3, 640, 384)\n"
     ]
    },
    {
     "name": "stderr",
     "output_type": "stream",
     "text": [
      " 48%|████▊     | 217/451 [00:13<00:15, 15.12it/s]"
     ]
    },
    {
     "name": "stdout",
     "output_type": "stream",
     "text": [
      "\n",
      "0: 640x384 1 car, 1 truck, 62.6ms\n",
      "Speed: 0.4ms preprocess, 62.6ms inference, 0.3ms postprocess per image at shape (1, 3, 640, 384)\n",
      "\n",
      "0: 640x384 1 car, 59.6ms\n",
      "Speed: 0.5ms preprocess, 59.6ms inference, 0.4ms postprocess per image at shape (1, 3, 640, 384)\n"
     ]
    },
    {
     "name": "stderr",
     "output_type": "stream",
     "text": [
      " 49%|████▊     | 219/451 [00:13<00:15, 15.23it/s]"
     ]
    },
    {
     "name": "stdout",
     "output_type": "stream",
     "text": [
      "\n",
      "0: 640x384 1 car, 60.2ms\n",
      "Speed: 0.8ms preprocess, 60.2ms inference, 0.4ms postprocess per image at shape (1, 3, 640, 384)\n",
      "\n",
      "0: 640x384 1 car, 61.3ms\n",
      "Speed: 0.7ms preprocess, 61.3ms inference, 0.3ms postprocess per image at shape (1, 3, 640, 384)\n"
     ]
    },
    {
     "name": "stderr",
     "output_type": "stream",
     "text": [
      " 49%|████▉     | 221/451 [00:14<00:15, 15.28it/s]"
     ]
    },
    {
     "name": "stdout",
     "output_type": "stream",
     "text": [
      "\n",
      "0: 640x384 1 car, 61.3ms\n",
      "Speed: 1.0ms preprocess, 61.3ms inference, 0.4ms postprocess per image at shape (1, 3, 640, 384)\n",
      "\n",
      "0: 640x384 1 car, 61.2ms\n",
      "Speed: 0.6ms preprocess, 61.2ms inference, 0.3ms postprocess per image at shape (1, 3, 640, 384)\n"
     ]
    },
    {
     "name": "stderr",
     "output_type": "stream",
     "text": [
      " 49%|████▉     | 223/451 [00:14<00:14, 15.26it/s]"
     ]
    },
    {
     "name": "stdout",
     "output_type": "stream",
     "text": [
      "\n",
      "0: 640x384 1 car, 62.5ms\n",
      "Speed: 0.4ms preprocess, 62.5ms inference, 0.3ms postprocess per image at shape (1, 3, 640, 384)\n",
      "\n",
      "0: 640x384 1 car, 60.5ms\n",
      "Speed: 0.4ms preprocess, 60.5ms inference, 0.3ms postprocess per image at shape (1, 3, 640, 384)\n"
     ]
    },
    {
     "name": "stderr",
     "output_type": "stream",
     "text": [
      " 50%|████▉     | 225/451 [00:14<00:14, 15.24it/s]"
     ]
    },
    {
     "name": "stdout",
     "output_type": "stream",
     "text": [
      "\n",
      "0: 640x384 1 car, 61.7ms\n",
      "Speed: 0.5ms preprocess, 61.7ms inference, 0.3ms postprocess per image at shape (1, 3, 640, 384)\n",
      "\n",
      "0: 640x384 1 car, 59.3ms\n",
      "Speed: 0.5ms preprocess, 59.3ms inference, 0.3ms postprocess per image at shape (1, 3, 640, 384)\n"
     ]
    },
    {
     "name": "stderr",
     "output_type": "stream",
     "text": [
      " 50%|█████     | 227/451 [00:14<00:14, 15.32it/s]"
     ]
    },
    {
     "name": "stdout",
     "output_type": "stream",
     "text": [
      "\n",
      "0: 640x384 1 car, 60.0ms\n",
      "Speed: 0.4ms preprocess, 60.0ms inference, 0.4ms postprocess per image at shape (1, 3, 640, 384)\n",
      "\n",
      "0: 640x384 1 car, 59.1ms\n",
      "Speed: 0.6ms preprocess, 59.1ms inference, 0.3ms postprocess per image at shape (1, 3, 640, 384)\n"
     ]
    },
    {
     "name": "stderr",
     "output_type": "stream",
     "text": [
      " 51%|█████     | 229/451 [00:14<00:14, 15.46it/s]"
     ]
    },
    {
     "name": "stdout",
     "output_type": "stream",
     "text": [
      "\n",
      "0: 640x384 1 car, 61.0ms\n",
      "Speed: 0.7ms preprocess, 61.0ms inference, 0.3ms postprocess per image at shape (1, 3, 640, 384)\n",
      "\n",
      "0: 640x384 1 car, 59.3ms\n",
      "Speed: 0.7ms preprocess, 59.3ms inference, 0.4ms postprocess per image at shape (1, 3, 640, 384)\n"
     ]
    },
    {
     "name": "stderr",
     "output_type": "stream",
     "text": [
      " 51%|█████     | 231/451 [00:14<00:14, 15.47it/s]"
     ]
    },
    {
     "name": "stdout",
     "output_type": "stream",
     "text": [
      "\n",
      "0: 640x384 1 car, 59.0ms\n",
      "Speed: 0.8ms preprocess, 59.0ms inference, 0.4ms postprocess per image at shape (1, 3, 640, 384)\n",
      "\n",
      "0: 640x384 1 car, 62.9ms\n",
      "Speed: 0.5ms preprocess, 62.9ms inference, 0.6ms postprocess per image at shape (1, 3, 640, 384)\n"
     ]
    },
    {
     "name": "stderr",
     "output_type": "stream",
     "text": [
      " 52%|█████▏    | 233/451 [00:14<00:14, 15.41it/s]"
     ]
    },
    {
     "name": "stdout",
     "output_type": "stream",
     "text": [
      "\n",
      "0: 640x384 1 car, 60.8ms\n",
      "Speed: 0.5ms preprocess, 60.8ms inference, 0.4ms postprocess per image at shape (1, 3, 640, 384)\n",
      "\n",
      "0: 640x384 1 car, 59.2ms\n",
      "Speed: 0.5ms preprocess, 59.2ms inference, 0.4ms postprocess per image at shape (1, 3, 640, 384)\n"
     ]
    },
    {
     "name": "stderr",
     "output_type": "stream",
     "text": [
      " 52%|█████▏    | 235/451 [00:14<00:13, 15.45it/s]"
     ]
    },
    {
     "name": "stdout",
     "output_type": "stream",
     "text": [
      "\n",
      "0: 640x384 1 car, 58.7ms\n",
      "Speed: 0.9ms preprocess, 58.7ms inference, 0.3ms postprocess per image at shape (1, 3, 640, 384)\n",
      "\n",
      "0: 640x384 1 car, 54.6ms\n",
      "Speed: 0.5ms preprocess, 54.6ms inference, 0.3ms postprocess per image at shape (1, 3, 640, 384)\n"
     ]
    },
    {
     "name": "stderr",
     "output_type": "stream",
     "text": [
      " 53%|█████▎    | 237/451 [00:15<00:13, 15.75it/s]"
     ]
    },
    {
     "name": "stdout",
     "output_type": "stream",
     "text": [
      "\n",
      "0: 640x384 1 car, 57.9ms\n",
      "Speed: 0.4ms preprocess, 57.9ms inference, 0.4ms postprocess per image at shape (1, 3, 640, 384)\n",
      "\n",
      "0: 640x384 1 car, 57.0ms\n",
      "Speed: 0.7ms preprocess, 57.0ms inference, 0.3ms postprocess per image at shape (1, 3, 640, 384)\n"
     ]
    },
    {
     "name": "stderr",
     "output_type": "stream",
     "text": [
      " 53%|█████▎    | 239/451 [00:15<00:13, 15.92it/s]"
     ]
    },
    {
     "name": "stdout",
     "output_type": "stream",
     "text": [
      "\n",
      "0: 640x384 1 car, 60.0ms\n",
      "Speed: 0.5ms preprocess, 60.0ms inference, 0.3ms postprocess per image at shape (1, 3, 640, 384)\n",
      "\n",
      "0: 640x384 1 car, 55.5ms\n",
      "Speed: 0.4ms preprocess, 55.5ms inference, 0.3ms postprocess per image at shape (1, 3, 640, 384)\n"
     ]
    },
    {
     "name": "stderr",
     "output_type": "stream",
     "text": [
      " 53%|█████▎    | 241/451 [00:15<00:13, 16.02it/s]"
     ]
    },
    {
     "name": "stdout",
     "output_type": "stream",
     "text": [
      "\n",
      "0: 640x384 1 car, 56.0ms\n",
      "Speed: 0.5ms preprocess, 56.0ms inference, 0.3ms postprocess per image at shape (1, 3, 640, 384)\n",
      "\n",
      "0: 640x384 1 car, 60.2ms\n",
      "Speed: 0.5ms preprocess, 60.2ms inference, 0.3ms postprocess per image at shape (1, 3, 640, 384)\n"
     ]
    },
    {
     "name": "stderr",
     "output_type": "stream",
     "text": [
      " 54%|█████▍    | 243/451 [00:15<00:12, 16.08it/s]"
     ]
    },
    {
     "name": "stdout",
     "output_type": "stream",
     "text": [
      "\n",
      "0: 640x384 1 car, 56.5ms\n",
      "Speed: 0.4ms preprocess, 56.5ms inference, 0.3ms postprocess per image at shape (1, 3, 640, 384)\n",
      "\n",
      "0: 640x384 1 car, 58.6ms\n",
      "Speed: 0.4ms preprocess, 58.6ms inference, 0.3ms postprocess per image at shape (1, 3, 640, 384)\n"
     ]
    },
    {
     "name": "stderr",
     "output_type": "stream",
     "text": [
      " 54%|█████▍    | 245/451 [00:15<00:12, 16.18it/s]"
     ]
    },
    {
     "name": "stdout",
     "output_type": "stream",
     "text": [
      "\n",
      "0: 640x384 1 car, 59.0ms\n",
      "Speed: 0.7ms preprocess, 59.0ms inference, 0.3ms postprocess per image at shape (1, 3, 640, 384)\n",
      "\n",
      "0: 640x384 1 car, 58.7ms\n",
      "Speed: 0.4ms preprocess, 58.7ms inference, 0.3ms postprocess per image at shape (1, 3, 640, 384)\n"
     ]
    },
    {
     "name": "stderr",
     "output_type": "stream",
     "text": [
      " 55%|█████▍    | 247/451 [00:15<00:12, 16.13it/s]"
     ]
    },
    {
     "name": "stdout",
     "output_type": "stream",
     "text": [
      "\n",
      "0: 640x384 1 car, 59.4ms\n",
      "Speed: 0.4ms preprocess, 59.4ms inference, 0.4ms postprocess per image at shape (1, 3, 640, 384)\n",
      "\n",
      "0: 640x384 1 car, 57.6ms\n",
      "Speed: 0.5ms preprocess, 57.6ms inference, 0.3ms postprocess per image at shape (1, 3, 640, 384)\n"
     ]
    },
    {
     "name": "stderr",
     "output_type": "stream",
     "text": [
      " 55%|█████▌    | 249/451 [00:15<00:12, 16.14it/s]"
     ]
    },
    {
     "name": "stdout",
     "output_type": "stream",
     "text": [
      "\n",
      "0: 640x384 1 car, 55.7ms\n",
      "Speed: 0.4ms preprocess, 55.7ms inference, 0.3ms postprocess per image at shape (1, 3, 640, 384)\n",
      "\n",
      "0: 640x384 1 car, 55.5ms\n",
      "Speed: 0.4ms preprocess, 55.5ms inference, 0.3ms postprocess per image at shape (1, 3, 640, 384)\n"
     ]
    },
    {
     "name": "stderr",
     "output_type": "stream",
     "text": [
      " 56%|█████▌    | 251/451 [00:15<00:12, 16.37it/s]"
     ]
    },
    {
     "name": "stdout",
     "output_type": "stream",
     "text": [
      "\n",
      "0: 640x384 1 car, 59.4ms\n",
      "Speed: 0.4ms preprocess, 59.4ms inference, 0.3ms postprocess per image at shape (1, 3, 640, 384)\n",
      "\n",
      "0: 640x384 1 car, 56.2ms\n",
      "Speed: 0.4ms preprocess, 56.2ms inference, 0.3ms postprocess per image at shape (1, 3, 640, 384)\n"
     ]
    },
    {
     "name": "stderr",
     "output_type": "stream",
     "text": [
      " 56%|█████▌    | 253/451 [00:16<00:12, 16.36it/s]"
     ]
    },
    {
     "name": "stdout",
     "output_type": "stream",
     "text": [
      "\n",
      "0: 640x384 1 car, 53.7ms\n",
      "Speed: 0.5ms preprocess, 53.7ms inference, 0.3ms postprocess per image at shape (1, 3, 640, 384)\n",
      "\n",
      "0: 640x384 1 car, 50.8ms\n",
      "Speed: 0.4ms preprocess, 50.8ms inference, 0.3ms postprocess per image at shape (1, 3, 640, 384)\n"
     ]
    },
    {
     "name": "stderr",
     "output_type": "stream",
     "text": [
      " 57%|█████▋    | 255/451 [00:16<00:11, 16.83it/s]"
     ]
    },
    {
     "name": "stdout",
     "output_type": "stream",
     "text": [
      "\n",
      "0: 640x384 1 car, 61.7ms\n",
      "Speed: 1.0ms preprocess, 61.7ms inference, 0.4ms postprocess per image at shape (1, 3, 640, 384)\n",
      "\n",
      "0: 640x384 1 car, 59.8ms\n",
      "Speed: 0.8ms preprocess, 59.8ms inference, 0.3ms postprocess per image at shape (1, 3, 640, 384)\n"
     ]
    },
    {
     "name": "stderr",
     "output_type": "stream",
     "text": [
      " 57%|█████▋    | 257/451 [00:16<00:11, 16.38it/s]"
     ]
    },
    {
     "name": "stdout",
     "output_type": "stream",
     "text": [
      "\n",
      "0: 640x384 1 car, 60.0ms\n",
      "Speed: 0.6ms preprocess, 60.0ms inference, 0.3ms postprocess per image at shape (1, 3, 640, 384)\n",
      "\n",
      "0: 640x384 1 car, 59.1ms\n",
      "Speed: 0.5ms preprocess, 59.1ms inference, 0.3ms postprocess per image at shape (1, 3, 640, 384)\n"
     ]
    },
    {
     "name": "stderr",
     "output_type": "stream",
     "text": [
      " 57%|█████▋    | 259/451 [00:16<00:11, 16.17it/s]"
     ]
    },
    {
     "name": "stdout",
     "output_type": "stream",
     "text": [
      "\n",
      "0: 640x384 1 car, 62.2ms\n",
      "Speed: 0.5ms preprocess, 62.2ms inference, 0.3ms postprocess per image at shape (1, 3, 640, 384)\n",
      "\n",
      "0: 640x384 1 car, 59.8ms\n",
      "Speed: 0.5ms preprocess, 59.8ms inference, 0.3ms postprocess per image at shape (1, 3, 640, 384)\n"
     ]
    },
    {
     "name": "stderr",
     "output_type": "stream",
     "text": [
      " 58%|█████▊    | 261/451 [00:16<00:11, 15.93it/s]"
     ]
    },
    {
     "name": "stdout",
     "output_type": "stream",
     "text": [
      "\n",
      "0: 640x384 1 car, 61.3ms\n",
      "Speed: 0.5ms preprocess, 61.3ms inference, 0.4ms postprocess per image at shape (1, 3, 640, 384)\n",
      "\n",
      "0: 640x384 1 car, 61.0ms\n",
      "Speed: 0.5ms preprocess, 61.0ms inference, 0.3ms postprocess per image at shape (1, 3, 640, 384)\n"
     ]
    },
    {
     "name": "stderr",
     "output_type": "stream",
     "text": [
      " 58%|█████▊    | 263/451 [00:16<00:11, 15.76it/s]"
     ]
    },
    {
     "name": "stdout",
     "output_type": "stream",
     "text": [
      "\n",
      "0: 640x384 1 car, 60.2ms\n",
      "Speed: 0.5ms preprocess, 60.2ms inference, 0.4ms postprocess per image at shape (1, 3, 640, 384)\n",
      "\n",
      "0: 640x384 1 car, 61.4ms\n",
      "Speed: 0.8ms preprocess, 61.4ms inference, 0.4ms postprocess per image at shape (1, 3, 640, 384)\n"
     ]
    },
    {
     "name": "stderr",
     "output_type": "stream",
     "text": [
      " 59%|█████▉    | 265/451 [00:16<00:11, 15.66it/s]"
     ]
    },
    {
     "name": "stdout",
     "output_type": "stream",
     "text": [
      "\n",
      "0: 640x384 1 car, 83.4ms\n",
      "Speed: 0.5ms preprocess, 83.4ms inference, 0.4ms postprocess per image at shape (1, 3, 640, 384)\n",
      "\n",
      "0: 640x384 1 car, 64.1ms\n",
      "Speed: 0.7ms preprocess, 64.1ms inference, 0.4ms postprocess per image at shape (1, 3, 640, 384)\n"
     ]
    },
    {
     "name": "stderr",
     "output_type": "stream",
     "text": [
      " 59%|█████▉    | 267/451 [00:16<00:12, 14.70it/s]"
     ]
    },
    {
     "name": "stdout",
     "output_type": "stream",
     "text": [
      "\n",
      "0: 640x384 1 car, 61.8ms\n",
      "Speed: 0.5ms preprocess, 61.8ms inference, 0.6ms postprocess per image at shape (1, 3, 640, 384)\n",
      "\n",
      "0: 640x384 1 car, 59.2ms\n",
      "Speed: 0.6ms preprocess, 59.2ms inference, 0.4ms postprocess per image at shape (1, 3, 640, 384)\n"
     ]
    },
    {
     "name": "stderr",
     "output_type": "stream",
     "text": [
      " 60%|█████▉    | 269/451 [00:17<00:12, 14.91it/s]"
     ]
    },
    {
     "name": "stdout",
     "output_type": "stream",
     "text": [
      "\n",
      "0: 640x384 1 car, 59.7ms\n",
      "Speed: 0.5ms preprocess, 59.7ms inference, 0.4ms postprocess per image at shape (1, 3, 640, 384)\n",
      "\n",
      "0: 640x384 1 car, 58.6ms\n",
      "Speed: 0.5ms preprocess, 58.6ms inference, 0.9ms postprocess per image at shape (1, 3, 640, 384)\n"
     ]
    },
    {
     "name": "stderr",
     "output_type": "stream",
     "text": [
      " 60%|██████    | 271/451 [00:17<00:11, 15.17it/s]"
     ]
    },
    {
     "name": "stdout",
     "output_type": "stream",
     "text": [
      "\n",
      "0: 640x384 1 car, 59.0ms\n",
      "Speed: 0.5ms preprocess, 59.0ms inference, 0.3ms postprocess per image at shape (1, 3, 640, 384)\n",
      "\n",
      "0: 640x384 1 car, 59.9ms\n",
      "Speed: 0.5ms preprocess, 59.9ms inference, 0.3ms postprocess per image at shape (1, 3, 640, 384)\n"
     ]
    },
    {
     "name": "stderr",
     "output_type": "stream",
     "text": [
      " 61%|██████    | 273/451 [00:17<00:11, 15.36it/s]"
     ]
    },
    {
     "name": "stdout",
     "output_type": "stream",
     "text": [
      "\n",
      "0: 640x384 1 car, 57.9ms\n",
      "Speed: 0.4ms preprocess, 57.9ms inference, 0.4ms postprocess per image at shape (1, 3, 640, 384)\n",
      "\n",
      "0: 640x384 1 car, 61.0ms\n",
      "Speed: 0.4ms preprocess, 61.0ms inference, 0.3ms postprocess per image at shape (1, 3, 640, 384)\n"
     ]
    },
    {
     "name": "stderr",
     "output_type": "stream",
     "text": [
      " 61%|██████    | 275/451 [00:17<00:11, 15.51it/s]"
     ]
    },
    {
     "name": "stdout",
     "output_type": "stream",
     "text": [
      "\n",
      "0: 640x384 1 car, 58.2ms\n",
      "Speed: 0.4ms preprocess, 58.2ms inference, 0.6ms postprocess per image at shape (1, 3, 640, 384)\n",
      "\n",
      "0: 640x384 (no detections), 58.2ms\n",
      "Speed: 0.3ms preprocess, 58.2ms inference, 0.3ms postprocess per image at shape (1, 3, 640, 384)\n"
     ]
    },
    {
     "name": "stderr",
     "output_type": "stream",
     "text": [
      " 61%|██████▏   | 277/451 [00:17<00:11, 15.71it/s]"
     ]
    },
    {
     "name": "stdout",
     "output_type": "stream",
     "text": [
      "\n",
      "0: 640x384 (no detections), 55.1ms\n",
      "Speed: 0.6ms preprocess, 55.1ms inference, 0.2ms postprocess per image at shape (1, 3, 640, 384)\n",
      "\n",
      "0: 640x384 (no detections), 58.7ms\n",
      "Speed: 0.6ms preprocess, 58.7ms inference, 0.3ms postprocess per image at shape (1, 3, 640, 384)\n"
     ]
    },
    {
     "name": "stderr",
     "output_type": "stream",
     "text": [
      " 62%|██████▏   | 279/451 [00:17<00:10, 15.99it/s]"
     ]
    },
    {
     "name": "stdout",
     "output_type": "stream",
     "text": [
      "\n",
      "0: 640x384 (no detections), 57.8ms\n",
      "Speed: 0.4ms preprocess, 57.8ms inference, 0.2ms postprocess per image at shape (1, 3, 640, 384)\n",
      "\n",
      "0: 640x384 (no detections), 54.4ms\n",
      "Speed: 0.5ms preprocess, 54.4ms inference, 0.2ms postprocess per image at shape (1, 3, 640, 384)\n"
     ]
    },
    {
     "name": "stderr",
     "output_type": "stream",
     "text": [
      " 62%|██████▏   | 281/451 [00:17<00:10, 16.24it/s]"
     ]
    },
    {
     "name": "stdout",
     "output_type": "stream",
     "text": [
      "\n",
      "0: 640x384 1 car, 54.6ms\n",
      "Speed: 0.4ms preprocess, 54.6ms inference, 0.3ms postprocess per image at shape (1, 3, 640, 384)\n",
      "\n",
      "0: 640x384 1 car, 57.6ms\n",
      "Speed: 0.5ms preprocess, 57.6ms inference, 0.4ms postprocess per image at shape (1, 3, 640, 384)\n"
     ]
    },
    {
     "name": "stderr",
     "output_type": "stream",
     "text": [
      " 63%|██████▎   | 283/451 [00:17<00:10, 16.40it/s]"
     ]
    },
    {
     "name": "stdout",
     "output_type": "stream",
     "text": [
      "\n",
      "0: 640x384 1 car, 55.1ms\n",
      "Speed: 0.5ms preprocess, 55.1ms inference, 0.3ms postprocess per image at shape (1, 3, 640, 384)\n",
      "\n",
      "0: 640x384 1 car, 55.0ms\n",
      "Speed: 0.5ms preprocess, 55.0ms inference, 0.5ms postprocess per image at shape (1, 3, 640, 384)\n"
     ]
    },
    {
     "name": "stderr",
     "output_type": "stream",
     "text": [
      " 63%|██████▎   | 285/451 [00:18<00:09, 16.60it/s]"
     ]
    },
    {
     "name": "stdout",
     "output_type": "stream",
     "text": [
      "\n",
      "0: 640x384 1 car, 57.0ms\n",
      "Speed: 0.5ms preprocess, 57.0ms inference, 0.3ms postprocess per image at shape (1, 3, 640, 384)\n",
      "\n",
      "0: 640x384 1 car, 1 truck, 55.7ms\n",
      "Speed: 0.4ms preprocess, 55.7ms inference, 0.5ms postprocess per image at shape (1, 3, 640, 384)\n"
     ]
    },
    {
     "name": "stderr",
     "output_type": "stream",
     "text": [
      " 64%|██████▎   | 287/451 [00:18<00:09, 16.63it/s]"
     ]
    },
    {
     "name": "stdout",
     "output_type": "stream",
     "text": [
      "\n",
      "0: 640x384 1 car, 58.8ms\n",
      "Speed: 0.4ms preprocess, 58.8ms inference, 0.3ms postprocess per image at shape (1, 3, 640, 384)\n",
      "\n",
      "0: 640x384 1 car, 1 truck, 57.8ms\n",
      "Speed: 0.4ms preprocess, 57.8ms inference, 0.4ms postprocess per image at shape (1, 3, 640, 384)\n"
     ]
    },
    {
     "name": "stderr",
     "output_type": "stream",
     "text": [
      " 64%|██████▍   | 289/451 [00:18<00:09, 16.49it/s]"
     ]
    },
    {
     "name": "stdout",
     "output_type": "stream",
     "text": [
      "\n",
      "0: 640x384 1 car, 1 truck, 57.7ms\n",
      "Speed: 0.5ms preprocess, 57.7ms inference, 0.3ms postprocess per image at shape (1, 3, 640, 384)\n",
      "\n",
      "0: 640x384 1 car, 1 truck, 58.5ms\n",
      "Speed: 0.4ms preprocess, 58.5ms inference, 0.3ms postprocess per image at shape (1, 3, 640, 384)\n"
     ]
    },
    {
     "name": "stderr",
     "output_type": "stream",
     "text": [
      " 65%|██████▍   | 291/451 [00:18<00:09, 16.42it/s]"
     ]
    },
    {
     "name": "stdout",
     "output_type": "stream",
     "text": [
      "\n",
      "0: 640x384 1 car, 1 truck, 56.0ms\n",
      "Speed: 0.7ms preprocess, 56.0ms inference, 0.3ms postprocess per image at shape (1, 3, 640, 384)\n",
      "\n",
      "0: 640x384 1 truck, 62.6ms\n",
      "Speed: 1.0ms preprocess, 62.6ms inference, 0.4ms postprocess per image at shape (1, 3, 640, 384)\n"
     ]
    },
    {
     "name": "stderr",
     "output_type": "stream",
     "text": [
      " 65%|██████▍   | 293/451 [00:18<00:09, 16.24it/s]"
     ]
    },
    {
     "name": "stdout",
     "output_type": "stream",
     "text": [
      "\n",
      "0: 640x384 1 car, 64.2ms\n",
      "Speed: 0.7ms preprocess, 64.2ms inference, 0.4ms postprocess per image at shape (1, 3, 640, 384)\n",
      "\n",
      "0: 640x384 1 car, 1 truck, 60.4ms\n",
      "Speed: 0.6ms preprocess, 60.4ms inference, 0.4ms postprocess per image at shape (1, 3, 640, 384)\n"
     ]
    },
    {
     "name": "stderr",
     "output_type": "stream",
     "text": [
      " 65%|██████▌   | 295/451 [00:18<00:09, 15.84it/s]"
     ]
    },
    {
     "name": "stdout",
     "output_type": "stream",
     "text": [
      "\n",
      "0: 640x384 1 car, 1 truck, 61.7ms\n",
      "Speed: 0.5ms preprocess, 61.7ms inference, 0.3ms postprocess per image at shape (1, 3, 640, 384)\n",
      "\n",
      "0: 640x384 1 car, 60.6ms\n",
      "Speed: 0.9ms preprocess, 60.6ms inference, 0.3ms postprocess per image at shape (1, 3, 640, 384)\n"
     ]
    },
    {
     "name": "stderr",
     "output_type": "stream",
     "text": [
      " 66%|██████▌   | 297/451 [00:18<00:09, 15.66it/s]"
     ]
    },
    {
     "name": "stdout",
     "output_type": "stream",
     "text": [
      "\n",
      "0: 640x384 (no detections), 61.5ms\n",
      "Speed: 0.5ms preprocess, 61.5ms inference, 0.2ms postprocess per image at shape (1, 3, 640, 384)\n",
      "\n",
      "0: 640x384 (no detections), 58.5ms\n",
      "Speed: 0.5ms preprocess, 58.5ms inference, 0.2ms postprocess per image at shape (1, 3, 640, 384)\n"
     ]
    },
    {
     "name": "stderr",
     "output_type": "stream",
     "text": [
      " 66%|██████▋   | 299/451 [00:18<00:09, 15.65it/s]"
     ]
    },
    {
     "name": "stdout",
     "output_type": "stream",
     "text": [
      "\n",
      "0: 640x384 (no detections), 57.6ms\n",
      "Speed: 0.5ms preprocess, 57.6ms inference, 0.2ms postprocess per image at shape (1, 3, 640, 384)\n",
      "\n",
      "0: 640x384 (no detections), 61.5ms\n",
      "Speed: 0.6ms preprocess, 61.5ms inference, 0.2ms postprocess per image at shape (1, 3, 640, 384)\n"
     ]
    },
    {
     "name": "stderr",
     "output_type": "stream",
     "text": [
      " 67%|██████▋   | 301/451 [00:19<00:09, 15.71it/s]"
     ]
    },
    {
     "name": "stdout",
     "output_type": "stream",
     "text": [
      "\n",
      "0: 640x384 (no detections), 62.0ms\n",
      "Speed: 1.2ms preprocess, 62.0ms inference, 0.2ms postprocess per image at shape (1, 3, 640, 384)\n",
      "\n",
      "0: 640x384 (no detections), 59.4ms\n",
      "Speed: 0.4ms preprocess, 59.4ms inference, 0.2ms postprocess per image at shape (1, 3, 640, 384)\n"
     ]
    },
    {
     "name": "stderr",
     "output_type": "stream",
     "text": [
      " 67%|██████▋   | 303/451 [00:19<00:09, 15.63it/s]"
     ]
    },
    {
     "name": "stdout",
     "output_type": "stream",
     "text": [
      "\n",
      "0: 640x384 (no detections), 60.8ms\n",
      "Speed: 0.5ms preprocess, 60.8ms inference, 0.2ms postprocess per image at shape (1, 3, 640, 384)\n",
      "\n",
      "0: 640x384 (no detections), 59.1ms\n",
      "Speed: 0.4ms preprocess, 59.1ms inference, 0.2ms postprocess per image at shape (1, 3, 640, 384)\n"
     ]
    },
    {
     "name": "stderr",
     "output_type": "stream",
     "text": [
      " 68%|██████▊   | 305/451 [00:19<00:09, 15.69it/s]"
     ]
    },
    {
     "name": "stdout",
     "output_type": "stream",
     "text": [
      "\n",
      "0: 640x384 1 car, 61.5ms\n",
      "Speed: 1.0ms preprocess, 61.5ms inference, 0.3ms postprocess per image at shape (1, 3, 640, 384)\n",
      "\n",
      "0: 640x384 1 car, 61.3ms\n",
      "Speed: 0.6ms preprocess, 61.3ms inference, 0.5ms postprocess per image at shape (1, 3, 640, 384)\n"
     ]
    },
    {
     "name": "stderr",
     "output_type": "stream",
     "text": [
      " 68%|██████▊   | 307/451 [00:19<00:09, 15.55it/s]"
     ]
    },
    {
     "name": "stdout",
     "output_type": "stream",
     "text": [
      "\n",
      "0: 640x384 1 car, 60.4ms\n",
      "Speed: 0.7ms preprocess, 60.4ms inference, 0.3ms postprocess per image at shape (1, 3, 640, 384)\n",
      "\n",
      "0: 640x384 1 car, 62.9ms\n",
      "Speed: 0.5ms preprocess, 62.9ms inference, 0.3ms postprocess per image at shape (1, 3, 640, 384)\n"
     ]
    },
    {
     "name": "stderr",
     "output_type": "stream",
     "text": [
      " 69%|██████▊   | 309/451 [00:19<00:09, 15.45it/s]"
     ]
    },
    {
     "name": "stdout",
     "output_type": "stream",
     "text": [
      "\n",
      "0: 640x384 1 car, 63.0ms\n",
      "Speed: 0.5ms preprocess, 63.0ms inference, 0.3ms postprocess per image at shape (1, 3, 640, 384)\n",
      "\n",
      "0: 640x384 1 car, 55.3ms\n",
      "Speed: 0.4ms preprocess, 55.3ms inference, 0.3ms postprocess per image at shape (1, 3, 640, 384)\n"
     ]
    },
    {
     "name": "stderr",
     "output_type": "stream",
     "text": [
      " 69%|██████▉   | 311/451 [00:19<00:08, 15.58it/s]"
     ]
    },
    {
     "name": "stdout",
     "output_type": "stream",
     "text": [
      "\n",
      "0: 640x384 1 car, 54.7ms\n",
      "Speed: 0.6ms preprocess, 54.7ms inference, 0.3ms postprocess per image at shape (1, 3, 640, 384)\n",
      "\n",
      "0: 640x384 (no detections), 53.1ms\n",
      "Speed: 0.5ms preprocess, 53.1ms inference, 0.2ms postprocess per image at shape (1, 3, 640, 384)\n"
     ]
    },
    {
     "name": "stderr",
     "output_type": "stream",
     "text": [
      " 69%|██████▉   | 313/451 [00:19<00:08, 16.08it/s]"
     ]
    },
    {
     "name": "stdout",
     "output_type": "stream",
     "text": [
      "\n",
      "0: 640x384 (no detections), 56.6ms\n",
      "Speed: 0.7ms preprocess, 56.6ms inference, 0.2ms postprocess per image at shape (1, 3, 640, 384)\n",
      "\n",
      "0: 640x384 (no detections), 55.6ms\n",
      "Speed: 0.5ms preprocess, 55.6ms inference, 0.2ms postprocess per image at shape (1, 3, 640, 384)\n"
     ]
    },
    {
     "name": "stderr",
     "output_type": "stream",
     "text": [
      " 70%|██████▉   | 315/451 [00:19<00:08, 16.29it/s]"
     ]
    },
    {
     "name": "stdout",
     "output_type": "stream",
     "text": [
      "\n",
      "0: 640x384 (no detections), 58.0ms\n",
      "Speed: 0.4ms preprocess, 58.0ms inference, 0.3ms postprocess per image at shape (1, 3, 640, 384)\n",
      "\n",
      "0: 640x384 (no detections), 54.6ms\n",
      "Speed: 0.4ms preprocess, 54.6ms inference, 0.2ms postprocess per image at shape (1, 3, 640, 384)\n"
     ]
    },
    {
     "name": "stderr",
     "output_type": "stream",
     "text": [
      " 70%|███████   | 317/451 [00:20<00:08, 16.45it/s]"
     ]
    },
    {
     "name": "stdout",
     "output_type": "stream",
     "text": [
      "\n",
      "0: 640x384 (no detections), 75.7ms\n",
      "Speed: 0.4ms preprocess, 75.7ms inference, 0.2ms postprocess per image at shape (1, 3, 640, 384)\n",
      "\n",
      "0: 640x384 (no detections), 54.1ms\n",
      "Speed: 0.6ms preprocess, 54.1ms inference, 0.2ms postprocess per image at shape (1, 3, 640, 384)\n"
     ]
    },
    {
     "name": "stderr",
     "output_type": "stream",
     "text": [
      " 71%|███████   | 319/451 [00:20<00:08, 15.90it/s]"
     ]
    },
    {
     "name": "stdout",
     "output_type": "stream",
     "text": [
      "\n",
      "0: 640x384 (no detections), 54.1ms\n",
      "Speed: 0.4ms preprocess, 54.1ms inference, 0.3ms postprocess per image at shape (1, 3, 640, 384)\n",
      "\n",
      "0: 640x384 (no detections), 59.6ms\n",
      "Speed: 0.4ms preprocess, 59.6ms inference, 0.2ms postprocess per image at shape (1, 3, 640, 384)\n"
     ]
    },
    {
     "name": "stderr",
     "output_type": "stream",
     "text": [
      " 71%|███████   | 321/451 [00:20<00:08, 16.11it/s]"
     ]
    },
    {
     "name": "stdout",
     "output_type": "stream",
     "text": [
      "\n",
      "0: 640x384 (no detections), 55.0ms\n",
      "Speed: 0.4ms preprocess, 55.0ms inference, 0.2ms postprocess per image at shape (1, 3, 640, 384)\n",
      "\n",
      "0: 640x384 (no detections), 55.6ms\n",
      "Speed: 0.4ms preprocess, 55.6ms inference, 0.2ms postprocess per image at shape (1, 3, 640, 384)\n"
     ]
    },
    {
     "name": "stderr",
     "output_type": "stream",
     "text": [
      " 72%|███████▏  | 323/451 [00:20<00:07, 16.42it/s]"
     ]
    },
    {
     "name": "stdout",
     "output_type": "stream",
     "text": [
      "\n",
      "0: 640x384 (no detections), 55.6ms\n",
      "Speed: 0.5ms preprocess, 55.6ms inference, 0.2ms postprocess per image at shape (1, 3, 640, 384)\n",
      "\n",
      "0: 640x384 (no detections), 55.9ms\n",
      "Speed: 0.5ms preprocess, 55.9ms inference, 0.2ms postprocess per image at shape (1, 3, 640, 384)\n"
     ]
    },
    {
     "name": "stderr",
     "output_type": "stream",
     "text": [
      " 72%|███████▏  | 325/451 [00:20<00:07, 16.59it/s]"
     ]
    },
    {
     "name": "stdout",
     "output_type": "stream",
     "text": [
      "\n",
      "0: 640x384 (no detections), 55.7ms\n",
      "Speed: 0.5ms preprocess, 55.7ms inference, 0.2ms postprocess per image at shape (1, 3, 640, 384)\n",
      "\n",
      "0: 640x384 (no detections), 57.4ms\n",
      "Speed: 0.4ms preprocess, 57.4ms inference, 0.2ms postprocess per image at shape (1, 3, 640, 384)\n"
     ]
    },
    {
     "name": "stderr",
     "output_type": "stream",
     "text": [
      " 73%|███████▎  | 327/451 [00:20<00:07, 16.66it/s]"
     ]
    },
    {
     "name": "stdout",
     "output_type": "stream",
     "text": [
      "\n",
      "0: 640x384 (no detections), 56.8ms\n",
      "Speed: 0.5ms preprocess, 56.8ms inference, 0.2ms postprocess per image at shape (1, 3, 640, 384)\n",
      "\n",
      "0: 640x384 (no detections), 58.8ms\n",
      "Speed: 0.4ms preprocess, 58.8ms inference, 0.2ms postprocess per image at shape (1, 3, 640, 384)\n"
     ]
    },
    {
     "name": "stderr",
     "output_type": "stream",
     "text": [
      " 73%|███████▎  | 329/451 [00:20<00:07, 16.57it/s]"
     ]
    },
    {
     "name": "stdout",
     "output_type": "stream",
     "text": [
      "\n",
      "0: 640x384 (no detections), 61.5ms\n",
      "Speed: 0.5ms preprocess, 61.5ms inference, 0.2ms postprocess per image at shape (1, 3, 640, 384)\n",
      "\n",
      "0: 640x384 (no detections), 60.3ms\n",
      "Speed: 0.6ms preprocess, 60.3ms inference, 0.2ms postprocess per image at shape (1, 3, 640, 384)\n"
     ]
    },
    {
     "name": "stderr",
     "output_type": "stream",
     "text": [
      " 73%|███████▎  | 331/451 [00:20<00:07, 16.22it/s]"
     ]
    },
    {
     "name": "stdout",
     "output_type": "stream",
     "text": [
      "\n",
      "0: 640x384 (no detections), 58.3ms\n",
      "Speed: 0.5ms preprocess, 58.3ms inference, 0.3ms postprocess per image at shape (1, 3, 640, 384)\n",
      "\n",
      "0: 640x384 (no detections), 61.0ms\n",
      "Speed: 0.5ms preprocess, 61.0ms inference, 0.3ms postprocess per image at shape (1, 3, 640, 384)\n"
     ]
    },
    {
     "name": "stderr",
     "output_type": "stream",
     "text": [
      " 74%|███████▍  | 333/451 [00:21<00:07, 16.12it/s]"
     ]
    },
    {
     "name": "stdout",
     "output_type": "stream",
     "text": [
      "\n",
      "0: 640x384 (no detections), 62.9ms\n",
      "Speed: 0.9ms preprocess, 62.9ms inference, 0.2ms postprocess per image at shape (1, 3, 640, 384)\n",
      "\n",
      "0: 640x384 (no detections), 63.0ms\n",
      "Speed: 0.5ms preprocess, 63.0ms inference, 0.2ms postprocess per image at shape (1, 3, 640, 384)\n"
     ]
    },
    {
     "name": "stderr",
     "output_type": "stream",
     "text": [
      " 74%|███████▍  | 335/451 [00:21<00:07, 15.75it/s]"
     ]
    },
    {
     "name": "stdout",
     "output_type": "stream",
     "text": [
      "\n",
      "0: 640x384 (no detections), 61.1ms\n",
      "Speed: 0.5ms preprocess, 61.1ms inference, 0.3ms postprocess per image at shape (1, 3, 640, 384)\n",
      "\n",
      "0: 640x384 (no detections), 59.7ms\n",
      "Speed: 0.8ms preprocess, 59.7ms inference, 0.2ms postprocess per image at shape (1, 3, 640, 384)\n"
     ]
    },
    {
     "name": "stderr",
     "output_type": "stream",
     "text": [
      " 75%|███████▍  | 337/451 [00:21<00:07, 15.71it/s]"
     ]
    },
    {
     "name": "stdout",
     "output_type": "stream",
     "text": [
      "\n",
      "0: 640x384 (no detections), 58.2ms\n",
      "Speed: 0.4ms preprocess, 58.2ms inference, 0.2ms postprocess per image at shape (1, 3, 640, 384)\n",
      "\n",
      "0: 640x384 (no detections), 59.3ms\n",
      "Speed: 0.5ms preprocess, 59.3ms inference, 0.3ms postprocess per image at shape (1, 3, 640, 384)\n"
     ]
    },
    {
     "name": "stderr",
     "output_type": "stream",
     "text": [
      " 75%|███████▌  | 339/451 [00:21<00:07, 15.80it/s]"
     ]
    },
    {
     "name": "stdout",
     "output_type": "stream",
     "text": [
      "\n",
      "0: 640x384 (no detections), 61.1ms\n",
      "Speed: 0.5ms preprocess, 61.1ms inference, 0.3ms postprocess per image at shape (1, 3, 640, 384)\n",
      "\n",
      "0: 640x384 (no detections), 57.7ms\n",
      "Speed: 0.7ms preprocess, 57.7ms inference, 0.2ms postprocess per image at shape (1, 3, 640, 384)\n"
     ]
    },
    {
     "name": "stderr",
     "output_type": "stream",
     "text": [
      " 76%|███████▌  | 341/451 [00:21<00:06, 15.81it/s]"
     ]
    },
    {
     "name": "stdout",
     "output_type": "stream",
     "text": [
      "\n",
      "0: 640x384 (no detections), 57.8ms\n",
      "Speed: 0.5ms preprocess, 57.8ms inference, 0.6ms postprocess per image at shape (1, 3, 640, 384)\n",
      "\n",
      "0: 640x384 (no detections), 60.2ms\n",
      "Speed: 0.6ms preprocess, 60.2ms inference, 0.2ms postprocess per image at shape (1, 3, 640, 384)\n"
     ]
    },
    {
     "name": "stderr",
     "output_type": "stream",
     "text": [
      " 76%|███████▌  | 343/451 [00:21<00:06, 15.89it/s]"
     ]
    },
    {
     "name": "stdout",
     "output_type": "stream",
     "text": [
      "\n",
      "0: 640x384 (no detections), 63.4ms\n",
      "Speed: 0.7ms preprocess, 63.4ms inference, 0.4ms postprocess per image at shape (1, 3, 640, 384)\n",
      "\n",
      "0: 640x384 1 car, 60.1ms\n",
      "Speed: 0.4ms preprocess, 60.1ms inference, 0.4ms postprocess per image at shape (1, 3, 640, 384)\n"
     ]
    },
    {
     "name": "stderr",
     "output_type": "stream",
     "text": [
      " 76%|███████▋  | 345/451 [00:21<00:06, 15.68it/s]"
     ]
    },
    {
     "name": "stdout",
     "output_type": "stream",
     "text": [
      "\n",
      "0: 640x384 1 car, 59.8ms\n",
      "Speed: 0.4ms preprocess, 59.8ms inference, 0.3ms postprocess per image at shape (1, 3, 640, 384)\n",
      "\n",
      "0: 640x384 (no detections), 59.5ms\n",
      "Speed: 0.7ms preprocess, 59.5ms inference, 0.2ms postprocess per image at shape (1, 3, 640, 384)\n"
     ]
    },
    {
     "name": "stderr",
     "output_type": "stream",
     "text": [
      " 77%|███████▋  | 347/451 [00:21<00:06, 15.72it/s]"
     ]
    },
    {
     "name": "stdout",
     "output_type": "stream",
     "text": [
      "\n",
      "0: 640x384 (no detections), 59.2ms\n",
      "Speed: 0.5ms preprocess, 59.2ms inference, 0.3ms postprocess per image at shape (1, 3, 640, 384)\n",
      "\n",
      "0: 640x384 (no detections), 60.5ms\n",
      "Speed: 0.6ms preprocess, 60.5ms inference, 0.2ms postprocess per image at shape (1, 3, 640, 384)\n"
     ]
    },
    {
     "name": "stderr",
     "output_type": "stream",
     "text": [
      " 77%|███████▋  | 349/451 [00:22<00:06, 15.71it/s]"
     ]
    },
    {
     "name": "stdout",
     "output_type": "stream",
     "text": [
      "\n",
      "0: 640x384 (no detections), 60.7ms\n",
      "Speed: 0.5ms preprocess, 60.7ms inference, 0.3ms postprocess per image at shape (1, 3, 640, 384)\n",
      "\n",
      "0: 640x384 (no detections), 59.6ms\n",
      "Speed: 0.5ms preprocess, 59.6ms inference, 0.2ms postprocess per image at shape (1, 3, 640, 384)\n"
     ]
    },
    {
     "name": "stderr",
     "output_type": "stream",
     "text": [
      " 78%|███████▊  | 351/451 [00:22<00:06, 15.71it/s]"
     ]
    },
    {
     "name": "stdout",
     "output_type": "stream",
     "text": [
      "\n",
      "0: 640x384 (no detections), 56.1ms\n",
      "Speed: 0.4ms preprocess, 56.1ms inference, 0.3ms postprocess per image at shape (1, 3, 640, 384)\n",
      "\n",
      "0: 640x384 (no detections), 57.5ms\n",
      "Speed: 0.4ms preprocess, 57.5ms inference, 0.2ms postprocess per image at shape (1, 3, 640, 384)\n"
     ]
    },
    {
     "name": "stderr",
     "output_type": "stream",
     "text": [
      " 78%|███████▊  | 353/451 [00:22<00:06, 16.01it/s]"
     ]
    },
    {
     "name": "stdout",
     "output_type": "stream",
     "text": [
      "\n",
      "0: 640x384 (no detections), 56.7ms\n",
      "Speed: 0.4ms preprocess, 56.7ms inference, 0.3ms postprocess per image at shape (1, 3, 640, 384)\n",
      "\n",
      "0: 640x384 (no detections), 57.6ms\n",
      "Speed: 0.4ms preprocess, 57.6ms inference, 0.2ms postprocess per image at shape (1, 3, 640, 384)\n"
     ]
    },
    {
     "name": "stderr",
     "output_type": "stream",
     "text": [
      " 79%|███████▊  | 355/451 [00:22<00:05, 16.17it/s]"
     ]
    },
    {
     "name": "stdout",
     "output_type": "stream",
     "text": [
      "\n",
      "0: 640x384 (no detections), 56.2ms\n",
      "Speed: 0.5ms preprocess, 56.2ms inference, 0.2ms postprocess per image at shape (1, 3, 640, 384)\n",
      "\n",
      "0: 640x384 (no detections), 59.7ms\n",
      "Speed: 0.3ms preprocess, 59.7ms inference, 0.2ms postprocess per image at shape (1, 3, 640, 384)\n"
     ]
    },
    {
     "name": "stderr",
     "output_type": "stream",
     "text": [
      " 79%|███████▉  | 357/451 [00:22<00:05, 16.25it/s]"
     ]
    },
    {
     "name": "stdout",
     "output_type": "stream",
     "text": [
      "\n",
      "0: 640x384 (no detections), 55.1ms\n",
      "Speed: 0.4ms preprocess, 55.1ms inference, 0.2ms postprocess per image at shape (1, 3, 640, 384)\n",
      "\n",
      "0: 640x384 (no detections), 56.1ms\n",
      "Speed: 0.4ms preprocess, 56.1ms inference, 0.2ms postprocess per image at shape (1, 3, 640, 384)\n"
     ]
    },
    {
     "name": "stderr",
     "output_type": "stream",
     "text": [
      " 80%|███████▉  | 359/451 [00:22<00:05, 16.45it/s]"
     ]
    },
    {
     "name": "stdout",
     "output_type": "stream",
     "text": [
      "\n",
      "0: 640x384 (no detections), 57.4ms\n",
      "Speed: 0.7ms preprocess, 57.4ms inference, 0.2ms postprocess per image at shape (1, 3, 640, 384)\n",
      "\n",
      "0: 640x384 (no detections), 57.2ms\n",
      "Speed: 0.4ms preprocess, 57.2ms inference, 0.2ms postprocess per image at shape (1, 3, 640, 384)\n"
     ]
    },
    {
     "name": "stderr",
     "output_type": "stream",
     "text": [
      " 80%|████████  | 361/451 [00:22<00:05, 16.46it/s]"
     ]
    },
    {
     "name": "stdout",
     "output_type": "stream",
     "text": [
      "\n",
      "0: 640x384 (no detections), 58.6ms\n",
      "Speed: 0.5ms preprocess, 58.6ms inference, 0.2ms postprocess per image at shape (1, 3, 640, 384)\n",
      "\n",
      "0: 640x384 (no detections), 56.8ms\n",
      "Speed: 0.4ms preprocess, 56.8ms inference, 0.2ms postprocess per image at shape (1, 3, 640, 384)\n"
     ]
    },
    {
     "name": "stderr",
     "output_type": "stream",
     "text": [
      " 80%|████████  | 363/451 [00:22<00:05, 16.46it/s]"
     ]
    },
    {
     "name": "stdout",
     "output_type": "stream",
     "text": [
      "\n",
      "0: 640x384 (no detections), 54.2ms\n",
      "Speed: 0.6ms preprocess, 54.2ms inference, 0.2ms postprocess per image at shape (1, 3, 640, 384)\n",
      "\n",
      "0: 640x384 (no detections), 54.8ms\n",
      "Speed: 0.4ms preprocess, 54.8ms inference, 0.2ms postprocess per image at shape (1, 3, 640, 384)\n"
     ]
    },
    {
     "name": "stderr",
     "output_type": "stream",
     "text": [
      " 81%|████████  | 365/451 [00:23<00:05, 16.68it/s]"
     ]
    },
    {
     "name": "stdout",
     "output_type": "stream",
     "text": [
      "\n",
      "0: 640x384 (no detections), 58.2ms\n",
      "Speed: 0.3ms preprocess, 58.2ms inference, 0.2ms postprocess per image at shape (1, 3, 640, 384)\n",
      "\n",
      "0: 640x384 (no detections), 80.2ms\n",
      "Speed: 0.8ms preprocess, 80.2ms inference, 0.2ms postprocess per image at shape (1, 3, 640, 384)\n"
     ]
    },
    {
     "name": "stderr",
     "output_type": "stream",
     "text": [
      " 81%|████████▏ | 367/451 [00:23<00:05, 15.70it/s]"
     ]
    },
    {
     "name": "stdout",
     "output_type": "stream",
     "text": [
      "\n",
      "0: 640x384 (no detections), 66.2ms\n",
      "Speed: 0.8ms preprocess, 66.2ms inference, 0.2ms postprocess per image at shape (1, 3, 640, 384)\n",
      "\n",
      "0: 640x384 (no detections), 60.5ms\n",
      "Speed: 0.6ms preprocess, 60.5ms inference, 0.2ms postprocess per image at shape (1, 3, 640, 384)\n"
     ]
    },
    {
     "name": "stderr",
     "output_type": "stream",
     "text": [
      " 82%|████████▏ | 369/451 [00:23<00:05, 15.45it/s]"
     ]
    },
    {
     "name": "stdout",
     "output_type": "stream",
     "text": [
      "\n",
      "0: 640x384 (no detections), 60.6ms\n",
      "Speed: 0.9ms preprocess, 60.6ms inference, 0.2ms postprocess per image at shape (1, 3, 640, 384)\n",
      "\n",
      "0: 640x384 (no detections), 62.1ms\n",
      "Speed: 0.5ms preprocess, 62.1ms inference, 0.5ms postprocess per image at shape (1, 3, 640, 384)\n"
     ]
    },
    {
     "name": "stderr",
     "output_type": "stream",
     "text": [
      " 82%|████████▏ | 371/451 [00:23<00:05, 15.39it/s]"
     ]
    },
    {
     "name": "stdout",
     "output_type": "stream",
     "text": [
      "\n",
      "0: 640x384 (no detections), 61.6ms\n",
      "Speed: 0.9ms preprocess, 61.6ms inference, 0.4ms postprocess per image at shape (1, 3, 640, 384)\n",
      "\n",
      "0: 640x384 (no detections), 61.3ms\n",
      "Speed: 0.5ms preprocess, 61.3ms inference, 0.3ms postprocess per image at shape (1, 3, 640, 384)\n"
     ]
    },
    {
     "name": "stderr",
     "output_type": "stream",
     "text": [
      " 83%|████████▎ | 373/451 [00:23<00:05, 15.37it/s]"
     ]
    },
    {
     "name": "stdout",
     "output_type": "stream",
     "text": [
      "\n",
      "0: 640x384 (no detections), 59.3ms\n",
      "Speed: 0.5ms preprocess, 59.3ms inference, 0.3ms postprocess per image at shape (1, 3, 640, 384)\n",
      "\n",
      "0: 640x384 (no detections), 57.7ms\n",
      "Speed: 0.5ms preprocess, 57.7ms inference, 0.4ms postprocess per image at shape (1, 3, 640, 384)\n"
     ]
    },
    {
     "name": "stderr",
     "output_type": "stream",
     "text": [
      " 83%|████████▎ | 375/451 [00:23<00:04, 15.56it/s]"
     ]
    },
    {
     "name": "stdout",
     "output_type": "stream",
     "text": [
      "\n",
      "0: 640x384 (no detections), 58.9ms\n",
      "Speed: 0.8ms preprocess, 58.9ms inference, 0.5ms postprocess per image at shape (1, 3, 640, 384)\n",
      "\n",
      "0: 640x384 (no detections), 60.7ms\n",
      "Speed: 0.6ms preprocess, 60.7ms inference, 0.6ms postprocess per image at shape (1, 3, 640, 384)\n"
     ]
    },
    {
     "name": "stderr",
     "output_type": "stream",
     "text": [
      " 84%|████████▎ | 377/451 [00:23<00:04, 15.57it/s]"
     ]
    },
    {
     "name": "stdout",
     "output_type": "stream",
     "text": [
      "\n",
      "0: 640x384 (no detections), 73.2ms\n",
      "Speed: 1.0ms preprocess, 73.2ms inference, 0.2ms postprocess per image at shape (1, 3, 640, 384)\n",
      "\n",
      "0: 640x384 (no detections), 84.3ms\n",
      "Speed: 0.9ms preprocess, 84.3ms inference, 0.3ms postprocess per image at shape (1, 3, 640, 384)\n"
     ]
    },
    {
     "name": "stderr",
     "output_type": "stream",
     "text": [
      " 84%|████████▍ | 379/451 [00:23<00:05, 14.33it/s]"
     ]
    },
    {
     "name": "stdout",
     "output_type": "stream",
     "text": [
      "\n",
      "0: 640x384 (no detections), 60.2ms\n",
      "Speed: 0.7ms preprocess, 60.2ms inference, 0.2ms postprocess per image at shape (1, 3, 640, 384)\n",
      "\n",
      "0: 640x384 (no detections), 60.0ms\n",
      "Speed: 0.7ms preprocess, 60.0ms inference, 0.6ms postprocess per image at shape (1, 3, 640, 384)\n"
     ]
    },
    {
     "name": "stderr",
     "output_type": "stream",
     "text": [
      " 84%|████████▍ | 381/451 [00:24<00:04, 14.71it/s]"
     ]
    },
    {
     "name": "stdout",
     "output_type": "stream",
     "text": [
      "\n",
      "0: 640x384 (no detections), 61.5ms\n",
      "Speed: 0.4ms preprocess, 61.5ms inference, 0.2ms postprocess per image at shape (1, 3, 640, 384)\n",
      "\n",
      "0: 640x384 (no detections), 57.0ms\n",
      "Speed: 0.5ms preprocess, 57.0ms inference, 0.2ms postprocess per image at shape (1, 3, 640, 384)\n"
     ]
    },
    {
     "name": "stderr",
     "output_type": "stream",
     "text": [
      " 85%|████████▍ | 383/451 [00:24<00:04, 15.06it/s]"
     ]
    },
    {
     "name": "stdout",
     "output_type": "stream",
     "text": [
      "\n",
      "0: 640x384 (no detections), 54.8ms\n",
      "Speed: 0.4ms preprocess, 54.8ms inference, 0.2ms postprocess per image at shape (1, 3, 640, 384)\n",
      "\n",
      "0: 640x384 (no detections), 54.7ms\n",
      "Speed: 0.4ms preprocess, 54.7ms inference, 0.2ms postprocess per image at shape (1, 3, 640, 384)\n"
     ]
    },
    {
     "name": "stderr",
     "output_type": "stream",
     "text": [
      " 85%|████████▌ | 385/451 [00:24<00:04, 15.65it/s]"
     ]
    },
    {
     "name": "stdout",
     "output_type": "stream",
     "text": [
      "\n",
      "0: 640x384 (no detections), 57.3ms\n",
      "Speed: 0.4ms preprocess, 57.3ms inference, 0.2ms postprocess per image at shape (1, 3, 640, 384)\n",
      "\n",
      "0: 640x384 (no detections), 55.8ms\n",
      "Speed: 0.4ms preprocess, 55.8ms inference, 0.2ms postprocess per image at shape (1, 3, 640, 384)\n"
     ]
    },
    {
     "name": "stderr",
     "output_type": "stream",
     "text": [
      " 86%|████████▌ | 387/451 [00:24<00:04, 15.98it/s]"
     ]
    },
    {
     "name": "stdout",
     "output_type": "stream",
     "text": [
      "\n",
      "0: 640x384 (no detections), 56.0ms\n",
      "Speed: 0.5ms preprocess, 56.0ms inference, 0.2ms postprocess per image at shape (1, 3, 640, 384)\n",
      "\n",
      "0: 640x384 (no detections), 54.1ms\n",
      "Speed: 0.4ms preprocess, 54.1ms inference, 0.2ms postprocess per image at shape (1, 3, 640, 384)\n"
     ]
    },
    {
     "name": "stderr",
     "output_type": "stream",
     "text": [
      " 86%|████████▋ | 389/451 [00:24<00:03, 16.32it/s]"
     ]
    },
    {
     "name": "stdout",
     "output_type": "stream",
     "text": [
      "\n",
      "0: 640x384 (no detections), 54.7ms\n",
      "Speed: 0.4ms preprocess, 54.7ms inference, 0.3ms postprocess per image at shape (1, 3, 640, 384)\n",
      "\n",
      "0: 640x384 (no detections), 51.7ms\n",
      "Speed: 0.4ms preprocess, 51.7ms inference, 0.2ms postprocess per image at shape (1, 3, 640, 384)\n"
     ]
    },
    {
     "name": "stderr",
     "output_type": "stream",
     "text": [
      " 87%|████████▋ | 391/451 [00:24<00:03, 16.69it/s]"
     ]
    },
    {
     "name": "stdout",
     "output_type": "stream",
     "text": [
      "\n",
      "0: 640x384 (no detections), 57.8ms\n",
      "Speed: 0.4ms preprocess, 57.8ms inference, 0.3ms postprocess per image at shape (1, 3, 640, 384)\n",
      "\n",
      "0: 640x384 (no detections), 55.9ms\n",
      "Speed: 0.4ms preprocess, 55.9ms inference, 0.2ms postprocess per image at shape (1, 3, 640, 384)\n"
     ]
    },
    {
     "name": "stderr",
     "output_type": "stream",
     "text": [
      " 87%|████████▋ | 393/451 [00:24<00:03, 16.69it/s]"
     ]
    },
    {
     "name": "stdout",
     "output_type": "stream",
     "text": [
      "\n",
      "0: 640x384 (no detections), 55.9ms\n",
      "Speed: 0.4ms preprocess, 55.9ms inference, 0.2ms postprocess per image at shape (1, 3, 640, 384)\n",
      "\n",
      "0: 640x384 (no detections), 56.9ms\n",
      "Speed: 0.5ms preprocess, 56.9ms inference, 0.2ms postprocess per image at shape (1, 3, 640, 384)\n"
     ]
    },
    {
     "name": "stderr",
     "output_type": "stream",
     "text": [
      " 88%|████████▊ | 395/451 [00:24<00:03, 16.72it/s]"
     ]
    },
    {
     "name": "stdout",
     "output_type": "stream",
     "text": [
      "\n",
      "0: 640x384 (no detections), 54.5ms\n",
      "Speed: 0.4ms preprocess, 54.5ms inference, 0.2ms postprocess per image at shape (1, 3, 640, 384)\n",
      "\n",
      "0: 640x384 (no detections), 56.7ms\n",
      "Speed: 0.4ms preprocess, 56.7ms inference, 0.3ms postprocess per image at shape (1, 3, 640, 384)\n"
     ]
    },
    {
     "name": "stderr",
     "output_type": "stream",
     "text": [
      " 88%|████████▊ | 397/451 [00:25<00:03, 16.82it/s]"
     ]
    },
    {
     "name": "stdout",
     "output_type": "stream",
     "text": [
      "\n",
      "0: 640x384 (no detections), 53.9ms\n",
      "Speed: 0.4ms preprocess, 53.9ms inference, 0.2ms postprocess per image at shape (1, 3, 640, 384)\n",
      "\n",
      "0: 640x384 (no detections), 54.2ms\n",
      "Speed: 0.7ms preprocess, 54.2ms inference, 0.2ms postprocess per image at shape (1, 3, 640, 384)\n"
     ]
    },
    {
     "name": "stderr",
     "output_type": "stream",
     "text": [
      " 88%|████████▊ | 399/451 [00:25<00:03, 16.99it/s]"
     ]
    },
    {
     "name": "stdout",
     "output_type": "stream",
     "text": [
      "\n",
      "0: 640x384 (no detections), 56.3ms\n",
      "Speed: 0.5ms preprocess, 56.3ms inference, 0.2ms postprocess per image at shape (1, 3, 640, 384)\n",
      "\n",
      "0: 640x384 (no detections), 54.8ms\n",
      "Speed: 0.4ms preprocess, 54.8ms inference, 0.2ms postprocess per image at shape (1, 3, 640, 384)\n"
     ]
    },
    {
     "name": "stderr",
     "output_type": "stream",
     "text": [
      " 89%|████████▉ | 401/451 [00:25<00:02, 17.01it/s]"
     ]
    },
    {
     "name": "stdout",
     "output_type": "stream",
     "text": [
      "\n",
      "0: 640x384 (no detections), 57.8ms\n",
      "Speed: 0.5ms preprocess, 57.8ms inference, 0.2ms postprocess per image at shape (1, 3, 640, 384)\n",
      "\n",
      "0: 640x384 (no detections), 68.2ms\n",
      "Speed: 0.6ms preprocess, 68.2ms inference, 0.2ms postprocess per image at shape (1, 3, 640, 384)\n"
     ]
    },
    {
     "name": "stderr",
     "output_type": "stream",
     "text": [
      " 89%|████████▉ | 403/451 [00:25<00:02, 16.39it/s]"
     ]
    },
    {
     "name": "stdout",
     "output_type": "stream",
     "text": [
      "\n",
      "0: 640x384 (no detections), 57.9ms\n",
      "Speed: 0.5ms preprocess, 57.9ms inference, 0.2ms postprocess per image at shape (1, 3, 640, 384)\n",
      "\n",
      "0: 640x384 (no detections), 58.5ms\n",
      "Speed: 0.4ms preprocess, 58.5ms inference, 0.2ms postprocess per image at shape (1, 3, 640, 384)\n"
     ]
    },
    {
     "name": "stderr",
     "output_type": "stream",
     "text": [
      " 90%|████████▉ | 405/451 [00:25<00:02, 16.32it/s]"
     ]
    },
    {
     "name": "stdout",
     "output_type": "stream",
     "text": [
      "\n",
      "0: 640x384 (no detections), 60.4ms\n",
      "Speed: 0.5ms preprocess, 60.4ms inference, 0.3ms postprocess per image at shape (1, 3, 640, 384)\n",
      "\n",
      "0: 640x384 (no detections), 61.4ms\n",
      "Speed: 0.8ms preprocess, 61.4ms inference, 0.3ms postprocess per image at shape (1, 3, 640, 384)\n"
     ]
    },
    {
     "name": "stderr",
     "output_type": "stream",
     "text": [
      " 90%|█████████ | 407/451 [00:25<00:02, 16.03it/s]"
     ]
    },
    {
     "name": "stdout",
     "output_type": "stream",
     "text": [
      "\n",
      "0: 640x384 (no detections), 61.1ms\n",
      "Speed: 1.0ms preprocess, 61.1ms inference, 0.2ms postprocess per image at shape (1, 3, 640, 384)\n",
      "\n",
      "0: 640x384 (no detections), 66.0ms\n",
      "Speed: 0.5ms preprocess, 66.0ms inference, 0.2ms postprocess per image at shape (1, 3, 640, 384)\n"
     ]
    },
    {
     "name": "stderr",
     "output_type": "stream",
     "text": [
      " 91%|█████████ | 409/451 [00:25<00:02, 15.64it/s]"
     ]
    },
    {
     "name": "stdout",
     "output_type": "stream",
     "text": [
      "\n",
      "0: 640x384 (no detections), 61.0ms\n",
      "Speed: 0.4ms preprocess, 61.0ms inference, 0.2ms postprocess per image at shape (1, 3, 640, 384)\n",
      "\n",
      "0: 640x384 (no detections), 59.5ms\n",
      "Speed: 0.5ms preprocess, 59.5ms inference, 0.3ms postprocess per image at shape (1, 3, 640, 384)\n"
     ]
    },
    {
     "name": "stderr",
     "output_type": "stream",
     "text": [
      " 91%|█████████ | 411/451 [00:25<00:02, 15.63it/s]"
     ]
    },
    {
     "name": "stdout",
     "output_type": "stream",
     "text": [
      "\n",
      "0: 640x384 (no detections), 62.0ms\n",
      "Speed: 0.7ms preprocess, 62.0ms inference, 0.2ms postprocess per image at shape (1, 3, 640, 384)\n",
      "\n",
      "0: 640x384 (no detections), 60.1ms\n",
      "Speed: 0.5ms preprocess, 60.1ms inference, 0.4ms postprocess per image at shape (1, 3, 640, 384)\n"
     ]
    },
    {
     "name": "stderr",
     "output_type": "stream",
     "text": [
      " 92%|█████████▏| 413/451 [00:26<00:02, 15.53it/s]"
     ]
    },
    {
     "name": "stdout",
     "output_type": "stream",
     "text": [
      "\n",
      "0: 640x384 (no detections), 61.4ms\n",
      "Speed: 0.5ms preprocess, 61.4ms inference, 0.2ms postprocess per image at shape (1, 3, 640, 384)\n",
      "\n",
      "0: 640x384 (no detections), 59.1ms\n",
      "Speed: 0.5ms preprocess, 59.1ms inference, 0.2ms postprocess per image at shape (1, 3, 640, 384)\n"
     ]
    },
    {
     "name": "stderr",
     "output_type": "stream",
     "text": [
      " 92%|█████████▏| 415/451 [00:26<00:02, 15.57it/s]"
     ]
    },
    {
     "name": "stdout",
     "output_type": "stream",
     "text": [
      "\n",
      "0: 640x384 (no detections), 79.2ms\n",
      "Speed: 0.6ms preprocess, 79.2ms inference, 0.2ms postprocess per image at shape (1, 3, 640, 384)\n",
      "\n",
      "0: 640x384 (no detections), 60.9ms\n",
      "Speed: 0.6ms preprocess, 60.9ms inference, 0.2ms postprocess per image at shape (1, 3, 640, 384)\n"
     ]
    },
    {
     "name": "stderr",
     "output_type": "stream",
     "text": [
      " 92%|█████████▏| 417/451 [00:26<00:02, 14.88it/s]"
     ]
    },
    {
     "name": "stdout",
     "output_type": "stream",
     "text": [
      "\n",
      "0: 640x384 (no detections), 73.5ms\n",
      "Speed: 0.7ms preprocess, 73.5ms inference, 0.2ms postprocess per image at shape (1, 3, 640, 384)\n",
      "\n",
      "0: 640x384 (no detections), 65.7ms\n",
      "Speed: 1.0ms preprocess, 65.7ms inference, 0.2ms postprocess per image at shape (1, 3, 640, 384)\n"
     ]
    },
    {
     "name": "stderr",
     "output_type": "stream",
     "text": [
      " 93%|█████████▎| 419/451 [00:26<00:02, 14.44it/s]"
     ]
    },
    {
     "name": "stdout",
     "output_type": "stream",
     "text": [
      "\n",
      "0: 640x384 (no detections), 60.7ms\n",
      "Speed: 0.5ms preprocess, 60.7ms inference, 0.3ms postprocess per image at shape (1, 3, 640, 384)\n",
      "\n",
      "0: 640x384 (no detections), 56.2ms\n",
      "Speed: 0.4ms preprocess, 56.2ms inference, 0.2ms postprocess per image at shape (1, 3, 640, 384)\n"
     ]
    },
    {
     "name": "stderr",
     "output_type": "stream",
     "text": [
      " 93%|█████████▎| 421/451 [00:26<00:02, 14.94it/s]"
     ]
    },
    {
     "name": "stdout",
     "output_type": "stream",
     "text": [
      "\n",
      "0: 640x384 (no detections), 55.3ms\n",
      "Speed: 0.4ms preprocess, 55.3ms inference, 0.2ms postprocess per image at shape (1, 3, 640, 384)\n",
      "\n",
      "0: 640x384 (no detections), 56.8ms\n",
      "Speed: 0.4ms preprocess, 56.8ms inference, 0.2ms postprocess per image at shape (1, 3, 640, 384)\n"
     ]
    },
    {
     "name": "stderr",
     "output_type": "stream",
     "text": [
      " 94%|█████████▍| 423/451 [00:26<00:01, 15.47it/s]"
     ]
    },
    {
     "name": "stdout",
     "output_type": "stream",
     "text": [
      "\n",
      "0: 640x384 (no detections), 56.6ms\n",
      "Speed: 0.5ms preprocess, 56.6ms inference, 0.2ms postprocess per image at shape (1, 3, 640, 384)\n",
      "\n",
      "0: 640x384 (no detections), 54.8ms\n",
      "Speed: 0.4ms preprocess, 54.8ms inference, 0.2ms postprocess per image at shape (1, 3, 640, 384)\n"
     ]
    },
    {
     "name": "stderr",
     "output_type": "stream",
     "text": [
      " 94%|█████████▍| 425/451 [00:26<00:01, 15.88it/s]"
     ]
    },
    {
     "name": "stdout",
     "output_type": "stream",
     "text": [
      "\n",
      "0: 640x384 (no detections), 58.0ms\n",
      "Speed: 0.5ms preprocess, 58.0ms inference, 0.2ms postprocess per image at shape (1, 3, 640, 384)\n",
      "\n",
      "0: 640x384 (no detections), 56.1ms\n",
      "Speed: 0.4ms preprocess, 56.1ms inference, 0.2ms postprocess per image at shape (1, 3, 640, 384)\n"
     ]
    },
    {
     "name": "stderr",
     "output_type": "stream",
     "text": [
      " 95%|█████████▍| 427/451 [00:26<00:01, 16.09it/s]"
     ]
    },
    {
     "name": "stdout",
     "output_type": "stream",
     "text": [
      "\n",
      "0: 640x384 (no detections), 55.0ms\n",
      "Speed: 0.4ms preprocess, 55.0ms inference, 0.2ms postprocess per image at shape (1, 3, 640, 384)\n",
      "\n",
      "0: 640x384 (no detections), 55.1ms\n",
      "Speed: 0.5ms preprocess, 55.1ms inference, 0.2ms postprocess per image at shape (1, 3, 640, 384)\n"
     ]
    },
    {
     "name": "stderr",
     "output_type": "stream",
     "text": [
      " 95%|█████████▌| 429/451 [00:27<00:01, 16.39it/s]"
     ]
    },
    {
     "name": "stdout",
     "output_type": "stream",
     "text": [
      "\n",
      "0: 640x384 (no detections), 60.0ms\n",
      "Speed: 0.4ms preprocess, 60.0ms inference, 0.3ms postprocess per image at shape (1, 3, 640, 384)\n",
      "\n",
      "0: 640x384 (no detections), 54.7ms\n",
      "Speed: 0.4ms preprocess, 54.7ms inference, 0.2ms postprocess per image at shape (1, 3, 640, 384)\n"
     ]
    },
    {
     "name": "stderr",
     "output_type": "stream",
     "text": [
      " 96%|█████████▌| 431/451 [00:27<00:01, 16.41it/s]"
     ]
    },
    {
     "name": "stdout",
     "output_type": "stream",
     "text": [
      "\n",
      "0: 640x384 (no detections), 58.4ms\n",
      "Speed: 0.4ms preprocess, 58.4ms inference, 0.2ms postprocess per image at shape (1, 3, 640, 384)\n",
      "\n",
      "0: 640x384 (no detections), 53.8ms\n",
      "Speed: 0.4ms preprocess, 53.8ms inference, 0.2ms postprocess per image at shape (1, 3, 640, 384)\n"
     ]
    },
    {
     "name": "stderr",
     "output_type": "stream",
     "text": [
      " 96%|█████████▌| 433/451 [00:27<00:01, 16.54it/s]"
     ]
    },
    {
     "name": "stdout",
     "output_type": "stream",
     "text": [
      "\n",
      "0: 640x384 (no detections), 56.2ms\n",
      "Speed: 0.4ms preprocess, 56.2ms inference, 0.2ms postprocess per image at shape (1, 3, 640, 384)\n",
      "\n",
      "0: 640x384 (no detections), 54.3ms\n",
      "Speed: 0.4ms preprocess, 54.3ms inference, 0.2ms postprocess per image at shape (1, 3, 640, 384)\n"
     ]
    },
    {
     "name": "stderr",
     "output_type": "stream",
     "text": [
      " 96%|█████████▋| 435/451 [00:27<00:00, 16.73it/s]"
     ]
    },
    {
     "name": "stdout",
     "output_type": "stream",
     "text": [
      "\n",
      "0: 640x384 (no detections), 54.6ms\n",
      "Speed: 0.5ms preprocess, 54.6ms inference, 0.2ms postprocess per image at shape (1, 3, 640, 384)\n",
      "\n",
      "0: 640x384 (no detections), 52.7ms\n",
      "Speed: 0.4ms preprocess, 52.7ms inference, 0.2ms postprocess per image at shape (1, 3, 640, 384)\n"
     ]
    },
    {
     "name": "stderr",
     "output_type": "stream",
     "text": [
      " 97%|█████████▋| 437/451 [00:27<00:00, 16.96it/s]"
     ]
    },
    {
     "name": "stdout",
     "output_type": "stream",
     "text": [
      "\n",
      "0: 640x384 (no detections), 55.0ms\n",
      "Speed: 0.4ms preprocess, 55.0ms inference, 0.2ms postprocess per image at shape (1, 3, 640, 384)\n",
      "\n",
      "0: 640x384 (no detections), 55.8ms\n",
      "Speed: 0.5ms preprocess, 55.8ms inference, 0.2ms postprocess per image at shape (1, 3, 640, 384)\n"
     ]
    },
    {
     "name": "stderr",
     "output_type": "stream",
     "text": [
      " 97%|█████████▋| 439/451 [00:27<00:00, 16.99it/s]"
     ]
    },
    {
     "name": "stdout",
     "output_type": "stream",
     "text": [
      "\n",
      "0: 640x384 (no detections), 60.3ms\n",
      "Speed: 0.5ms preprocess, 60.3ms inference, 0.3ms postprocess per image at shape (1, 3, 640, 384)\n",
      "\n",
      "0: 640x384 (no detections), 60.9ms\n",
      "Speed: 0.5ms preprocess, 60.9ms inference, 0.2ms postprocess per image at shape (1, 3, 640, 384)\n"
     ]
    },
    {
     "name": "stderr",
     "output_type": "stream",
     "text": [
      " 98%|█████████▊| 441/451 [00:27<00:00, 16.54it/s]"
     ]
    },
    {
     "name": "stdout",
     "output_type": "stream",
     "text": [
      "\n",
      "0: 640x384 (no detections), 58.3ms\n",
      "Speed: 0.5ms preprocess, 58.3ms inference, 0.6ms postprocess per image at shape (1, 3, 640, 384)\n",
      "\n",
      "0: 640x384 (no detections), 60.9ms\n",
      "Speed: 0.5ms preprocess, 60.9ms inference, 0.3ms postprocess per image at shape (1, 3, 640, 384)\n"
     ]
    },
    {
     "name": "stderr",
     "output_type": "stream",
     "text": [
      " 98%|█████████▊| 443/451 [00:27<00:00, 16.32it/s]"
     ]
    },
    {
     "name": "stdout",
     "output_type": "stream",
     "text": [
      "\n",
      "0: 640x384 (no detections), 61.6ms\n",
      "Speed: 0.4ms preprocess, 61.6ms inference, 0.3ms postprocess per image at shape (1, 3, 640, 384)\n",
      "\n",
      "0: 640x384 (no detections), 60.0ms\n",
      "Speed: 0.5ms preprocess, 60.0ms inference, 0.2ms postprocess per image at shape (1, 3, 640, 384)\n"
     ]
    },
    {
     "name": "stderr",
     "output_type": "stream",
     "text": [
      " 99%|█████████▊| 445/451 [00:28<00:00, 16.07it/s]"
     ]
    },
    {
     "name": "stdout",
     "output_type": "stream",
     "text": [
      "\n",
      "0: 640x384 (no detections), 61.2ms\n",
      "Speed: 0.9ms preprocess, 61.2ms inference, 0.2ms postprocess per image at shape (1, 3, 640, 384)\n",
      "\n",
      "0: 640x384 (no detections), 60.2ms\n",
      "Speed: 0.8ms preprocess, 60.2ms inference, 0.5ms postprocess per image at shape (1, 3, 640, 384)\n"
     ]
    },
    {
     "name": "stderr",
     "output_type": "stream",
     "text": [
      " 99%|█████████▉| 447/451 [00:28<00:00, 15.87it/s]"
     ]
    },
    {
     "name": "stdout",
     "output_type": "stream",
     "text": [
      "\n",
      "0: 640x384 (no detections), 59.8ms\n",
      "Speed: 0.6ms preprocess, 59.8ms inference, 0.2ms postprocess per image at shape (1, 3, 640, 384)\n",
      "\n",
      "0: 640x384 (no detections), 58.6ms\n",
      "Speed: 0.7ms preprocess, 58.6ms inference, 0.2ms postprocess per image at shape (1, 3, 640, 384)\n"
     ]
    },
    {
     "name": "stderr",
     "output_type": "stream",
     "text": [
      "100%|█████████▉| 449/451 [00:28<00:00, 15.88it/s]"
     ]
    },
    {
     "name": "stdout",
     "output_type": "stream",
     "text": [
      "\n",
      "0: 640x384 (no detections), 66.7ms\n",
      "Speed: 0.7ms preprocess, 66.7ms inference, 0.2ms postprocess per image at shape (1, 3, 640, 384)\n",
      "\n",
      "0: 640x384 (no detections), 58.3ms\n",
      "Speed: 0.5ms preprocess, 58.3ms inference, 0.2ms postprocess per image at shape (1, 3, 640, 384)\n"
     ]
    },
    {
     "name": "stderr",
     "output_type": "stream",
     "text": [
      "100%|██████████| 451/451 [00:28<00:00, 15.85it/s]\n"
     ]
    }
   ],
   "source": [
    "model = YOLO('yolov8m.pt') \n",
    "def car_detection(video_path, output_path, confidence=0.3):\n",
    "    \"\"\"\n",
    "    \n",
    "    Args:\n",
    "        video_path: Path to the input video\n",
    "        output_path: Path to save the output video\n",
    "        confidence: Detection confidence threshold\n",
    "    \"\"\"\n",
    "    cap = cv2.VideoCapture(video_path)\n",
    "    if not cap.isOpened():\n",
    "        print(\"Error opening video file\")\n",
    "        return\n",
    "    \n",
    "    fps = int(cap.get(cv2.CAP_PROP_FPS))\n",
    "    width = int(cap.get(cv2.CAP_PROP_FRAME_WIDTH))\n",
    "    height = int(cap.get(cv2.CAP_PROP_FRAME_HEIGHT))\n",
    "    frame_count = int(cap.get(cv2.CAP_PROP_FRAME_COUNT))\n",
    "    \n",
    "    fourcc = cv2.VideoWriter_fourcc(*'mp4v')\n",
    "    out = cv2.VideoWriter(output_path, fourcc, fps, (width, height))\n",
    "    \n",
    "    centroids = []\n",
    "    frame_indices = []\n",
    "    \n",
    "    prev_detection = None\n",
    "    detection_persistence = 0\n",
    "    max_persistence = 3\n",
    "    \n",
    "    for frame_idx in tqdm(range(frame_count)):\n",
    "        ret, frame = cap.read()\n",
    "        if not ret:\n",
    "            break\n",
    "        \n",
    "        annotated_frame = frame.copy()\n",
    "        \n",
    "        # Run detection - including vehicle classes\n",
    "        results = model(frame, conf=confidence, classes=[2, 5, 7, 3])\n",
    "        \n",
    "        # Current detection flag\n",
    "        detection_found = False\n",
    "        current_centroid = None\n",
    "        \n",
    "        if len(results) > 0 and len(results[0].boxes) > 0:\n",
    "            # Process results\n",
    "            result = results[0]\n",
    "            \n",
    "            best_detection = None\n",
    "            best_confidence = 0\n",
    "            \n",
    "            for box in result.boxes:\n",
    "                conf = float(box.conf[0])\n",
    "                cls = int(box.cls[0])\n",
    "                \n",
    "                if conf > best_confidence:\n",
    "                    best_confidence = conf\n",
    "                    best_detection = box\n",
    "            \n",
    "            if best_detection is not None:\n",
    "                # Get box coordinates\n",
    "                x1, y1, x2, y2 = map(int, best_detection.xyxy[0])\n",
    "                \n",
    "                # Calculate centroid\n",
    "                centroid_x = (x1 + x2) // 2\n",
    "                centroid_y = (y1 + y2) // 2\n",
    "                \n",
    "                if prev_detection is not None:\n",
    "                    prev_x1, prev_y1, prev_x2, prev_y2 = prev_detection\n",
    "                    \n",
    "                    # Apply simple temporal smoothing (average with previous detection)\n",
    "                    x1 = int(0.7 * x1 + 0.3 * prev_x1)\n",
    "                    y1 = int(0.7 * y1 + 0.3 * prev_y1)\n",
    "                    x2 = int(0.7 * x2 + 0.3 * prev_x2)\n",
    "                    y2 = int(0.7 * y2 + 0.3 * prev_y2)\n",
    "                    \n",
    "                    # Recalculate centroid\n",
    "                    centroid_x = (x1 + x2) // 2\n",
    "                    centroid_y = (y1 + y2) // 2\n",
    "                \n",
    "                # Draw bounding box\n",
    "                cv2.rectangle(annotated_frame, (x1, y1), (x2, y2), (0, 255, 0), 2)\n",
    "                \n",
    "                # Draw centroid\n",
    "                cv2.circle(annotated_frame, (centroid_x, centroid_y), 5, (0, 0, 255), -1)\n",
    "                \n",
    "                cv2.putText(annotated_frame, f\"Conf: {best_confidence:.2f}\", (x1, y1-10), \n",
    "                           cv2.FONT_HERSHEY_SIMPLEX, 0.5, (0, 255, 0), 2)\n",
    "                \n",
    "                current_centroid = (centroid_x, centroid_y)\n",
    "                prev_detection = (x1, y1, x2, y2)\n",
    "                detection_found = True\n",
    "                detection_persistence = max_persistence \n",
    "        \n",
    "        if not detection_found and prev_detection is not None and detection_persistence > 0:\n",
    "            x1, y1, x2, y2 = prev_detection\n",
    "            centroid_x = (x1 + x2) // 2\n",
    "            centroid_y = (y1 + y2) // 2\n",
    "            \n",
    "            dash_length = 5\n",
    "            for i in range(0, x2-x1, dash_length*2):\n",
    "                cv2.line(annotated_frame, (x1+i, y1), (x1+i+dash_length, y1), (0, 255, 255), 2)\n",
    "                cv2.line(annotated_frame, (x1+i, y2), (x1+i+dash_length, y2), (0, 255, 255), 2)\n",
    "            for i in range(0, y2-y1, dash_length*2):\n",
    "                cv2.line(annotated_frame, (x1, y1+i), (x1, y1+i+dash_length), (0, 255, 255), 2)\n",
    "                cv2.line(annotated_frame, (x2, y1+i), (x2, y1+i+dash_length), (0, 255, 255), 2)\n",
    "            \n",
    "            cv2.circle(annotated_frame, (centroid_x, centroid_y), 5, (0, 255, 255), -1)\n",
    "            \n",
    "            cv2.putText(annotated_frame, f\"Persistence: {detection_persistence}\", (x1, y1-10), \n",
    "                       cv2.FONT_HERSHEY_SIMPLEX, 0.5, (0, 255, 255), 2)\n",
    "            \n",
    "            current_centroid = (centroid_x, centroid_y)\n",
    "            detection_persistence -= 1\n",
    "        \n",
    "        centroids.append(current_centroid)\n",
    "        if current_centroid is not None:\n",
    "            frame_indices.append(frame_idx)\n",
    "        \n",
    "        out.write(annotated_frame)\n",
    "    \n",
    "    cap.release()\n",
    "    out.release()\n",
    "    \n",
    "    return centroids, frame_indices, fps\n",
    "\n",
    "centroids, frame_indices, fps = car_detection('drone_video.mp4', 'q1.mp4', confidence=0.3)\n",
    "\n"
   ]
  },
  {
   "cell_type": "markdown",
   "metadata": {},
   "source": [
    "## Q2"
   ]
  },
  {
   "cell_type": "code",
   "execution_count": null,
   "metadata": {},
   "outputs": [
    {
     "name": "stderr",
     "output_type": "stream",
     "text": [
      "Applying Kalman filter: 100%|██████████| 451/451 [00:00<00:00, 27915.40it/s]"
     ]
    },
    {
     "name": "stdout",
     "output_type": "stream",
     "text": [
      "Kalman filtering completed for 451 frames\n"
     ]
    },
    {
     "name": "stderr",
     "output_type": "stream",
     "text": [
      "\n"
     ]
    }
   ],
   "source": [
    "def create_kalman_filter(initial_x, initial_y, dt=1.0):\n",
    "    kf = KalmanFilter(dim_x=4, dim_z=2)\n",
    "    \n",
    "    kf.x = np.array([initial_x, initial_y, 0., 0.])\n",
    "    \n",
    "    kf.F = np.array([\n",
    "        [1, 0, dt, 0],\n",
    "        [0, 1, 0, dt],\n",
    "        [0, 0, 1, 0],\n",
    "        [0, 0, 0, 1]\n",
    "    ])\n",
    "    \n",
    "    kf.H = np.array([\n",
    "        [1, 0, 0, 0],\n",
    "        [0, 1, 0, 0]\n",
    "    ])\n",
    "    \n",
    "    kf.R = np.array([\n",
    "        [15, 0], \n",
    "        [0, 15]  \n",
    "    ])\n",
    "    \n",
    "\n",
    "    q = Q_discrete_white_noise(dim=2, dt=dt, var=0.1)\n",
    "    kf.Q = np.block([\n",
    "        [q, np.zeros((2, 2))],\n",
    "        [np.zeros((2, 2)), q * 10]\n",
    "    ])\n",
    "    \n",
    "    kf.P *= 100\n",
    "    \n",
    "    return kf\n",
    "\n",
    "def apply_kalman_filter(centroids, fps):\n",
    "\n",
    "    first_valid_idx = None\n",
    "    for i, centroid in enumerate(centroids):\n",
    "        if centroid is not None:\n",
    "            first_valid_idx = i\n",
    "            break\n",
    "    \n",
    "    if first_valid_idx is None:\n",
    "        raise ValueError(\"No valid centroids found\")\n",
    "    \n",
    "    dt = 1.0 / fps  \n",
    "    kf = create_kalman_filter(centroids[first_valid_idx][0], centroids[first_valid_idx][1], dt)\n",
    "    \n",
    "    filtered_centroids = []\n",
    "    innovations = []\n",
    "    \n",
    "    for centroid in tqdm(centroids, desc=\"Applying Kalman filter\"):\n",
    "        kf.predict()\n",
    "        \n",
    "        if centroid is not None:\n",
    "            z = np.array([centroid[0], centroid[1]])\n",
    "            \n",
    "            innovation = z - kf.H @ kf.x\n",
    "            innovation_magnitude = np.linalg.norm(innovation)\n",
    "            innovations.append(innovation_magnitude)\n",
    "            \n",
    "            kf.update(z)\n",
    "        else:\n",
    "            innovations.append(None)\n",
    "        \n",
    "        filtered_centroids.append((kf.x[0], kf.x[1]))\n",
    "    \n",
    "    return filtered_centroids, innovations\n",
    "\n",
    "filtered_centroids, innovations = apply_kalman_filter(centroids, fps)\n",
    "\n"
   ]
  },
  {
   "cell_type": "code",
   "execution_count": null,
   "metadata": {},
   "outputs": [
    {
     "name": "stdout",
     "output_type": "stream",
     "text": [
      "Downloading https://github.com/ultralytics/assets/releases/download/v8.3.0/yolov8s.pt to 'yolov8s.pt'...\n"
     ]
    },
    {
     "name": "stderr",
     "output_type": "stream",
     "text": [
      "100%|██████████| 21.5M/21.5M [00:00<00:00, 98.3MB/s]\n"
     ]
    },
    {
     "name": "stdout",
     "output_type": "stream",
     "text": [
      "Frame 0/726 (0.0 FPS) - Left: 0, Right: 0\n",
      "Frame 100/726 (30.2 FPS) - Left: 0, Right: 0\n",
      "Frame 200/726 (30.2 FPS) - Left: 0, Right: 0\n",
      "Frame 300/726 (30.3 FPS) - Left: 0, Right: 0\n",
      "Frame 400/726 (30.4 FPS) - Left: 0, Right: 0\n",
      "Frame 500/726 (30.5 FPS) - Left: 0, Right: 0\n",
      "Frame 600/726 (30.5 FPS) - Left: 0, Right: 0\n",
      "Vehicle 18 (Bus) counted RIGHT, total: 1\n",
      "Frame 700/726 (30.6 FPS) - Left: 0, Right: 1\n",
      "\n",
      "Processing complete. Video saved to traffic_counted.mp4\n",
      "Frames processed: 726\n",
      "Processing time: 23.65 seconds\n",
      "Final counts - Left: 0, Right: 1, Total: 1\n",
      "Normalized rates - Left: 0.00/sec, Right: 0.03/sec\n"
     ]
    }
   ],
   "source": [
    "def create_kalman_filter_video(input_video, output_video, centroids, filtered_centroids):\n",
    "\n",
    "    cap = cv2.VideoCapture(input_video)\n",
    "    if not cap.isOpened():\n",
    "        print(\"Error opening video file\")\n",
    "        return\n",
    "    \n",
    "    fps = int(cap.get(cv2.CAP_PROP_FPS))\n",
    "    width = int(cap.get(cv2.CAP_PROP_FRAME_WIDTH))\n",
    "    height = int(cap.get(cv2.CAP_PROP_FRAME_HEIGHT))\n",
    "    \n",
    "    fourcc = cv2.VideoWriter_fourcc(*'mp4v')\n",
    "    out = cv2.VideoWriter(output_video, fourcc, fps, (width, height))\n",
    "    \n",
    "    kalman_trail = []\n",
    "    detection_trail = []\n",
    "    max_trail_length = 30  \n",
    "    \n",
    "    frame_idx = 0\n",
    "    while cap.isOpened():\n",
    "        ret, frame = cap.read()\n",
    "        if not ret or frame_idx >= len(centroids):\n",
    "            break\n",
    "        \n",
    "        if filtered_centroids[frame_idx] is not None:\n",
    "            kalman_x, kalman_y = int(filtered_centroids[frame_idx][0]), int(filtered_centroids[frame_idx][1])\n",
    "            kalman_trail.append((kalman_x, kalman_y))\n",
    "            \n",
    "            if len(kalman_trail) > max_trail_length:\n",
    "                kalman_trail.pop(0)\n",
    "        \n",
    "        if centroids[frame_idx] is not None:\n",
    "            det_x, det_y = int(centroids[frame_idx][0]), int(centroids[frame_idx][1])\n",
    "            detection_trail.append((det_x, det_y))\n",
    "            \n",
    "            if len(detection_trail) > max_trail_length:\n",
    "                detection_trail.pop(0)\n",
    "        \n",
    "        # Draw trails\n",
    "\n",
    "        for i, (x, y) in enumerate(kalman_trail):\n",
    "            alpha = (i + 1) / len(kalman_trail)\n",
    "            color = (int(255 * alpha), 0, 0)  \n",
    "            cv2.circle(frame, (x, y), 2, color, -1)\n",
    "        \n",
    "        # Detection trail (red)\n",
    "        for i, (x, y) in enumerate(detection_trail):\n",
    "            alpha = (i + 1) / len(detection_trail)\n",
    "            color = (0, 0, int(255 * alpha))  \n",
    "            cv2.circle(frame, (x, y), 2, color, -1)\n",
    "        \n",
    "        if centroids[frame_idx] is not None:\n",
    "            x, y = centroids[frame_idx]\n",
    "            cv2.circle(frame, (int(x), int(y)), 7, (0, 0, 255), -1)\n",
    "            cv2.putText(frame, \"Detected\", (int(x)+10, int(y)), \n",
    "                       cv2.FONT_HERSHEY_SIMPLEX, 0.7, (0, 0, 255), 2)\n",
    "        \n",
    "        if filtered_centroids[frame_idx] is not None:\n",
    "            x, y = filtered_centroids[frame_idx]\n",
    "            cv2.circle(frame, (int(x), int(y)), 7, (255, 0, 0), -1)\n",
    "            cv2.putText(frame, \"Kalman\", (int(x)+10, int(y)), \n",
    "                       cv2.FONT_HERSHEY_SIMPLEX, 0.7, (255, 0, 0), 2)\n",
    "        \n",
    "        if innovations[frame_idx] is not None:\n",
    "            cv2.putText(frame, f\"Innovation: {innovations[frame_idx]:.1f}\", (10, 30), \n",
    "                       cv2.FONT_HERSHEY_SIMPLEX, 0.7, (255, 255, 255), 2)\n",
    "        \n",
    "        # Draw frame number and status\n",
    "        cv2.putText(frame, f\"Frame: {frame_idx}\", (10, 60), \n",
    "                   cv2.FONT_HERSHEY_SIMPLEX, 0.7, (255, 255, 255), 2)\n",
    "        \n",
    "        if centroids[frame_idx] is None:\n",
    "            cv2.putText(frame, \"Status: No Detection\", (10, 90), \n",
    "                       cv2.FONT_HERSHEY_SIMPLEX, 0.7, (0, 0, 255), 2)\n",
    "        else:\n",
    "            cv2.putText(frame, \"Status: Detected\", (10, 90), \n",
    "                       cv2.FONT_HERSHEY_SIMPLEX, 0.7, (0, 255, 0), 2)\n",
    "        \n",
    "        out.write(frame)\n",
    "        frame_idx += 1\n",
    "    \n",
    "    cap.release()\n",
    "    out.release()\n",
    "    print(f\"Video saved to {output_video}\")\n",
    "\n",
    "create_kalman_filter_video('drone_video.mp4', 'kalman_tracking.mp4', centroids, filtered_centroids)"
   ]
  },
  {
   "cell_type": "markdown",
   "metadata": {},
   "source": [
    "## Q3"
   ]
  },
  {
   "cell_type": "code",
   "execution_count": 26,
   "metadata": {},
   "outputs": [
    {
     "data": {
      "image/png": "[encoded data removed]",
      "text/plain": [
       "<Figure size 1000x600 with 1 Axes>"
      ]
     },
     "metadata": {},
     "output_type": "display_data"
    }
   ],
   "source": [
    "import cv2\n",
    "import numpy as np\n",
    "import matplotlib.pyplot as plt\n",
    "\n",
    "cap = cv2.VideoCapture(\"traffic.mp4\")\n",
    "\n",
    "fps = cap.get(cv2.CAP_PROP_FPS)\n",
    "total_frames = int(cap.get(cv2.CAP_PROP_FRAME_COUNT))\n",
    "duration = total_frames / fps\n",
    "frame_width = int(cap.get(cv2.CAP_PROP_FRAME_WIDTH))\n",
    "frame_height = int(cap.get(cv2.CAP_PROP_FRAME_HEIGHT))\n",
    "\n",
    "bg_subtractor = cv2.createBackgroundSubtractorMOG2(history=200, varThreshold=30)\n",
    "\n",
    "tracked_objects = {}\n",
    "next_id = 0\n",
    "\n",
    "line_y = frame_height // 2\n",
    "\n",
    "left_to_right_count = 0\n",
    "right_to_left_count = 0\n",
    "\n",
    "frame_count = 0\n",
    "times = []\n",
    "left_to_right_counts = []\n",
    "right_to_left_counts = []\n",
    "\n",
    "while True:\n",
    "    ret, frame = cap.read()\n",
    "    if not ret:\n",
    "        break\n",
    "    \n",
    "    frame_count += 1\n",
    "    current_time = frame_count / fps\n",
    "    \n",
    "    mask = bg_subtractor.apply(frame)\n",
    "    \n",
    "    thresh = cv2.threshold(mask, 200, 255, cv2.THRESH_BINARY)[1]\n",
    "    \n",
    "    kernel = np.ones((5, 5), np.uint8)\n",
    "    thresh = cv2.morphologyEx(thresh, cv2.MORPH_OPEN, kernel)\n",
    "    thresh = cv2.dilate(thresh, kernel, iterations=2)\n",
    "    \n",
    "    contours, _ = cv2.findContours(thresh, cv2.RETR_EXTERNAL, cv2.CHAIN_APPROX_SIMPLE)\n",
    "    \n",
    "    detections = []\n",
    "    \n",
    "    for contour in contours:\n",
    "        if cv2.contourArea(contour) < 500:\n",
    "            continue\n",
    "        \n",
    "        x, y, w, h = cv2.boundingRect(contour)\n",
    "        center_x = x + w // 2\n",
    "        center_y = y + h // 2\n",
    "        \n",
    "        detections.append((center_x, center_y, w, h))\n",
    "    \n",
    "    active_tracks = set()\n",
    "    \n",
    "    for center_x, center_y, w, h in detections:\n",
    "        matched = False\n",
    "        \n",
    "        for obj_id, obj_data in tracked_objects.items():\n",
    "            last_x, last_y = obj_data[\"positions\"][-1][:2]\n",
    "            \n",
    "            distance = np.sqrt((center_x - last_x)**2 + (center_y - last_y)**2)\n",
    "            \n",
    "            if distance < max(w, h) * 0.8:\n",
    "                tracked_objects[obj_id][\"positions\"].append((center_x, center_y, w, h))\n",
    "                tracked_objects[obj_id][\"unmatched\"] = 0\n",
    "                active_tracks.add(obj_id)\n",
    "                matched = True\n",
    "                \n",
    "                if len(tracked_objects[obj_id][\"positions\"]) > 5 and tracked_objects[obj_id][\"direction\"] is None:\n",
    "                    first_x = tracked_objects[obj_id][\"positions\"][0][0]\n",
    "                    last_x = tracked_objects[obj_id][\"positions\"][-1][0]\n",
    "                    \n",
    "                    if abs(last_x - first_x) > 30:\n",
    "                        if last_x > first_x:\n",
    "                            tracked_objects[obj_id][\"direction\"] = \"left_to_right\"\n",
    "                        else:\n",
    "                            tracked_objects[obj_id][\"direction\"] = \"right_to_left\"\n",
    "                \n",
    "                if not tracked_objects[obj_id][\"counted\"] and tracked_objects[obj_id][\"direction\"] is not None:\n",
    "                    prev_y = tracked_objects[obj_id][\"positions\"][-2][1]\n",
    "                    \n",
    "                    if (prev_y < line_y and center_y >= line_y) or (prev_y > line_y and center_y <= line_y):\n",
    "                        if tracked_objects[obj_id][\"direction\"] == \"left_to_right\":\n",
    "                            left_to_right_count += 1\n",
    "                        else:\n",
    "                            right_to_left_count += 1\n",
    "                        \n",
    "                        tracked_objects[obj_id][\"counted\"] = True\n",
    "                \n",
    "                break\n",
    "        \n",
    "        if not matched:\n",
    "            tracked_objects[next_id] = {\n",
    "                \"positions\": [(center_x, center_y, w, h)],\n",
    "                \"direction\": None,\n",
    "                \"counted\": False,\n",
    "                \"unmatched\": 0\n",
    "            }\n",
    "            active_tracks.add(next_id)\n",
    "            next_id += 1\n",
    "    \n",
    "    for obj_id in list(tracked_objects.keys()):\n",
    "        if obj_id not in active_tracks:\n",
    "            tracked_objects[obj_id][\"unmatched\"] += 1\n",
    "            \n",
    "            if tracked_objects[obj_id][\"unmatched\"] > 10:\n",
    "                del tracked_objects[obj_id]\n",
    "    \n",
    "    times.append(current_time)\n",
    "    left_to_right_counts.append(left_to_right_count / duration)\n",
    "    right_to_left_counts.append(right_to_left_count / duration)\n",
    "\n",
    "cap.release()\n",
    "\n",
    "plt.figure(figsize=(10, 6))\n",
    "plt.plot(times, left_to_right_counts, label='Left to Right')\n",
    "plt.plot(times, right_to_left_counts, label='Right to Left')\n",
    "plt.xlabel('Time (seconds)')\n",
    "plt.ylabel('Normalized Vehicle Count')\n",
    "plt.title('Vehicle Count Over Time')\n",
    "plt.legend()\n",
    "plt.grid(True)\n",
    "plt.show()"
   ]
  }
 ],
 "metadata": {
  "kernelspec": {
   "display_name": "project",
   "language": "python",
   "name": "project"
  },
  "language_info": {
   "codemirror_mode": {
    "name": "ipython",
    "version": 3
   },
   "file_extension": ".py",
   "mimetype": "text/x-python",
   "name": "python",
   "nbconvert_exporter": "python",
   "pygments_lexer": "ipython3",
   "version": "3.13.2"
  }
 },
 "nbformat": 4,
 "nbformat_minor": 2
}
